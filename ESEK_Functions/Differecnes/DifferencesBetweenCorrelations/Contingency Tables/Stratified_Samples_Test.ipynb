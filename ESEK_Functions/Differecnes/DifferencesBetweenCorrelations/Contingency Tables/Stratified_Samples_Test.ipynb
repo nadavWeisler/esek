{
 "cells": [
  {
   "cell_type": "code",
   "execution_count": 1,
   "metadata": {},
   "outputs": [
    {
     "name": "stdout",
     "output_type": "stream",
     "text": [
      "Stratified Samples Output\n",
      "Tables: [[[2, 1], [0, 1]], [[1, 1], [1, 1]], [[1, 1], [1, 1]]]\n",
      "Sample Size: 12\n",
      "Odds Ratio: 2.000\n",
      "Odds Ratio Lower Ci: 0.191\n",
      "Odds Ratio Upper CI: 20.969\n",
      "Log Odds Ratio: 0.693\n",
      "Log Odds Ratio Lower Ci: -1.657\n",
      "Log Odds Ratio Upper CI: 3.043\n",
      "Statistic: 0.273\n",
      "p value: 0.602\n",
      "Statistic 2: 1.022\n",
      "p-value 2: 0.600\n"
     ]
    }
   ],
   "source": [
    "import Stratified_Samples\n",
    "import numpy as np\n",
    "\n",
    "params = {\n",
    "    'Variable1': [1, 2, 1, 2, 1, 2, 1, 1, 2, 1, 2, 1],\n",
    "    'Variable2': ['A', 'B', 'A', 'B', 'A', 'B', 'A', 'B', 'A', 'B', 'A', 'B'],\n",
    "    'Stratified_Variable': ['X', 'X', 'Y', 'Y', 'Z', 'Z', 'X', 'X', 'Y', 'Y', 'Z', 'Z'],\n",
    "    \"Confidence Level\": 95\n",
    "}\n",
    "\n",
    "# Call the function\n",
    "results = Stratified_Samples.ContingencyTable_Difference.Stratified_Two_By_Two(params)\n",
    "print(\"Stratified Samples Output\")\n",
    "for key, value in results.items():\n",
    "    print(f\"{key}: {value}\")"
   ]
  },
  {
   "cell_type": "code",
   "execution_count": null,
   "metadata": {},
   "outputs": [],
   "source": []
  }
 ],
 "metadata": {
  "kernelspec": {
   "display_name": "Python 3",
   "language": "python",
   "name": "python3"
  },
  "language_info": {
   "codemirror_mode": {
    "name": "ipython",
    "version": 3
   },
   "file_extension": ".py",
   "mimetype": "text/x-python",
   "name": "python",
   "nbconvert_exporter": "python",
   "pygments_lexer": "ipython3",
   "version": "3.9.4"
  }
 },
 "nbformat": 4,
 "nbformat_minor": 2
}
