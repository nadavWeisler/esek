{
 "cells": [
  {
   "cell_type": "code",
   "execution_count": null,
   "metadata": {},
   "outputs": [],
   "source": [
    "######################################################\n",
    "###### Differences Between Contingency Tables ########\n",
    "######################################################\n",
    "\n",
    "import pandas as pd\n",
    "import numpy as np\n",
    "from statsmodels.stats.contingency_tables import StratifiedTable\n",
    "\n",
    "\n",
    "class ContingencyTable_Difference(): \n",
    "    @staticmethod\n",
    "    def Stratified_Two_By_Two(params: dict) -> dict: \n",
    "        \n",
    "        Variable1 = params[\"Variable1\"]\n",
    "        Variable2 = params[\"Variable2\"]\n",
    "        Stratified_Variable = params[\"Stratified_Variable\"]\n",
    "        confidence_level_percentages = params[\"Confidence Level\"]\n",
    "        \n",
    "        \n",
    "        confidence_level = confidence_level_percentages/100\n",
    "\n",
    "        df = pd.DataFrame(params)\n",
    "\n",
    "        # Get unique levels of Stratified_Variable\n",
    "        stratified_levels = df['Stratified_Variable'].unique()\n",
    "\n",
    "        # Create contingency tables for each level of Stratified_Variable\n",
    "        contingency_tables = []\n",
    "\n",
    "        for level in stratified_levels:\n",
    "            table = pd.crosstab(index=df[df['Stratified_Variable'] == level]['Variable1'],\n",
    "                                columns=df[df['Stratified_Variable'] == level]['Variable2']).values\n",
    "            contingency_tables.append(table.tolist())\n",
    "\n",
    "        stratified_data = StratifiedTable(contingency_tables)\n",
    "        stratified_data.summary(alpha=0.05, method='normal')\n",
    "\n",
    "        results = {}\n",
    "\n",
    "        results[\"Tables\"] = stratified_data\n",
    "\n",
    "        return results"
   ]
  }
 ],
 "metadata": {
  "kernelspec": {
   "display_name": "Python 3",
   "language": "python",
   "name": "python3"
  },
  "language_info": {
   "name": "python",
   "version": "3.9.4"
  }
 },
 "nbformat": 4,
 "nbformat_minor": 2
}
