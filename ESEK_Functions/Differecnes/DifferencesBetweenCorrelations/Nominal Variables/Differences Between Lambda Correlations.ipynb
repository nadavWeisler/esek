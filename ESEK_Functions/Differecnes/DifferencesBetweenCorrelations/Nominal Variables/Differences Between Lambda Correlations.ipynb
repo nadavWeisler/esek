{
 "cells": [
  {
   "cell_type": "code",
   "execution_count": null,
   "metadata": {},
   "outputs": [],
   "source": [
    "import numpy as np\n",
    "import scipy.stats\n",
    "\n",
    "\n",
    "def Differnece_Between_Lambda_Coefficients(Lambda1, Lamda2, ASE1, ASE2, confidence_level): \n",
    "\n",
    "    differcne_between_lambdas = Lambda1 - Lamda2\n",
    "    Standard_Error = np.sqrt(ASE1**2 + ASE2**2)\n",
    "    Z_statistic = differcne_between_lambdas / Standard_Error\n",
    "    p_value = scipy.stats.t.sf((abs(Z_statistic)), 100000) * 2\n",
    "    z_crit = scipy.stats.norm.ppf(confidence_level + ((1 - confidence_level) / 2))\n",
    "    ci_lower = differcne_between_lambdas - Standard_Error * z_crit\n",
    "    ci_upper = differcne_between_lambdas + Standard_Error * z_crit\n",
    "\n",
    "\n",
    "    results= {}\n",
    "\n",
    "    results[\"Difference_Between lambda Correlations\"]= differcne_between_lambdas\n",
    "    results[\"Standard Error_Hartwig\"]= Standard_Error\n",
    "    results[\"Statistic Z\"] = Z_statistic\n",
    "    results[\"p_value\"] = p_value\n",
    "    results[\"Confidence Intervals\"] = f\"({round(ci_lower, 4)}, {round(ci_upper, 4)})\"\n",
    "\n",
    "    result_str = \"\\n\".join([f\"{key}: {value}\" for key, value in results.items()])\n",
    "    return results\n",
    "\n",
    "\n",
    "\n"
   ]
  }
 ],
 "metadata": {
  "language_info": {
   "name": "python"
  },
  "orig_nbformat": 4
 },
 "nbformat": 4,
 "nbformat_minor": 2
}
