{
 "cells": [
  {
   "cell_type": "code",
   "execution_count": 2,
   "metadata": {},
   "outputs": [
    {
     "data": {
      "text/plain": [
       "{\"Kendall's W\": 0.9133644133644133,\n",
       " \"Kendall's W Corrected for ties\": 0.9241352201257862,\n",
       " 'Mean Spearman Correlation': 0.8862028301886793,\n",
       " 'Chi Square Statistic': 30.4965,\n",
       " 'Degrees of Freedom': 11,\n",
       " 'p-value chi square': 0.0013235459}"
      ]
     },
     "execution_count": 2,
     "metadata": {},
     "output_type": "execute_result"
    }
   ],
   "source": [
    "import pandas as pd\n",
    "import scipy.stats \n",
    "import numpy as np \n",
    "\n",
    "data = pd.DataFrame({\n",
    "    'wing.length': [10.4, 10.8, 11.1, 10.2, 10.3, 10.2, 10.7, 10.5, 10.8, 11.2, 10.6, 11.4],\n",
    "    'tail.length': [7.4, 7.6, 7.9, 7.2, 7.4, 7.1, 7.4, 7.2, 7.8, 7.7, 7.8, 8.3],\n",
    "    'bill.length': [17.0, 17.0, 20.0, 14.5, 15.5, 13.0, 19.5, 16.0, 21.0, 20.0, 18.0, 22.0]\n",
    "})\n",
    "\n",
    "def Kendalls_w_From_Data(data):\n",
    "    Number_of_Sujects = len(data)\n",
    "    Number_of_Raters = len(data.columns)\n",
    "    Data_Ranked = data.rank(axis=0)\n",
    "    sum_of_the_ranks = np.sum(Data_Ranked, axis = 1)\n",
    "    Squared_Sum_Ranks = (np.sum(sum_of_the_ranks))**2\n",
    "    Sum_Squared_Ranks = np.sum(sum_of_the_ranks**2)\n",
    "    Kendalls_W = (Sum_Squared_Ranks - Squared_Sum_Ranks / Number_of_Sujects) / (Number_of_Raters ** 2 * (Number_of_Sujects ** 3 - Number_of_Sujects) / 12)\n",
    "    Ties_Corrections = sum(Data_Ranked.apply(lambda x: ((x.value_counts() ** 3 - x.value_counts()).sum()), axis=0))\n",
    "    Kendalls_W_Corrected = (Sum_Squared_Ranks - Squared_Sum_Ranks / Number_of_Sujects) / ((Number_of_Raters ** 2 * (Number_of_Sujects ** 3 - Number_of_Sujects) - Number_of_Raters * Ties_Corrections) / 12)\n",
    "    Mean_Spearman_Correlation = (Number_of_Raters * Kendalls_W_Corrected - 1) / (Number_of_Raters - 1)\n",
    "    Chi_Square_Statistic = Number_of_Raters * (Number_of_Sujects - 1) * Kendalls_W_Corrected\n",
    "    degrees_of_freedom_chi_square = Number_of_Sujects-1        \n",
    "    p_value = scipy.stats.chi2.sf(Chi_Square_Statistic, degrees_of_freedom_chi_square)\n",
    "\n",
    "    results = {}\n",
    "\n",
    "    results[\"Kendall's W\"] = Kendalls_W\n",
    "    results[\"Kendall's W Corrected for ties\"] = Kendalls_W_Corrected\n",
    "    results[\"Mean Spearman Correlation\"] = Mean_Spearman_Correlation\n",
    "    results[\"Chi Square Statistic\"] = round(Chi_Square_Statistic, 4)\n",
    "    results[\"Degrees of Freedom\"] = round(degrees_of_freedom_chi_square, 4)\n",
    "    results[\"p-value chi square\"] = round(p_value, 10)\n",
    "    \n",
    "    result_str = \"\\n\".join([f\"{key}: {value}\" for key, value in results.items()])\n",
    "    return results\n",
    "\n",
    "Kendalls_w_From_Data(data)\n"
   ]
  },
  {
   "cell_type": "code",
   "execution_count": null,
   "metadata": {},
   "outputs": [],
   "source": []
  }
 ],
 "metadata": {
  "kernelspec": {
   "display_name": "Python 3",
   "language": "python",
   "name": "python3"
  },
  "language_info": {
   "codemirror_mode": {
    "name": "ipython",
    "version": 3
   },
   "file_extension": ".py",
   "mimetype": "text/x-python",
   "name": "python",
   "nbconvert_exporter": "python",
   "pygments_lexer": "ipython3",
   "version": "3.9.4"
  }
 },
 "nbformat": 4,
 "nbformat_minor": 2
}
