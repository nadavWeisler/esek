{
 "cells": [
  {
   "cell_type": "code",
   "execution_count": 3,
   "metadata": {},
   "outputs": [
    {
     "name": "stdout",
     "output_type": "stream",
     "text": [
      "Counter({1: 25, 2: 4, 3: 4, 4: 3, 5: 2}) [25, 4, 4, 3, 2] [15600, 60, 60, 24, 6] 15750\n"
     ]
    }
   ],
   "source": [
    "import scipy.stats as sf\n",
    "import scipy.stats as st\n",
    "import scipy.stats\n",
    "import numpy as np\n",
    "from scipy import stats\n",
    "from scipy.stats import beta, norm, nct, t, f, ncf, chi2,  hmean, wilcoxon, hypergeom, rankdata, mannwhitneyu, binom\n",
    "from numpy import around, array2string\n",
    "import numpy as np\n",
    "import numpy as geek\n",
    "import math\n",
    "import statistics\n",
    "from IPython.display import display\n",
    "from arch.bootstrap import IIDBootstrap, IndependentSamplesBootstrap\n",
    "import arch\n",
    "import researchpy as rp\n",
    "import pingouin as pg\n",
    "import pandas as pd\n",
    "import itertools as it\n",
    "from collections import Counter\n",
    "from ipywidgets import Image, interactive, interact_manual, Layout, Button, ButtonStyle, Text, Dropdown\n",
    "import scipy.stats\n",
    "from scipy import stats\n",
    "from scipy.stats import beta, norm, nct, t, f, ncf, chi2,  hmean, wilcoxon, hypergeom, rankdata, mannwhitneyu\n",
    "import scipy.stats as st\n",
    "from numpy import around, array2string\n",
    "import numpy as np\n",
    "import numpy as geek\n",
    "import math\n",
    "import statistics\n",
    "from IPython.display import display\n",
    "import IPython\n",
    "from arch.bootstrap import IIDBootstrap, IndependentSamplesBootstrap\n",
    "import arch\n",
    "import researchpy as rp\n",
    "import pingouin as pg\n",
    "import pandas as pd\n",
    "import itertools as it\n",
    "from collections import Counter\n",
    "from scipy.stats import nct\n",
    "\n",
    "from stats.means import TTest\n",
    "from stats.utils import Yuens_Test_Trimmed_Means_Independent, calculate_p_value_from_t_score, correction_factor\n",
    "\n",
    "params = {\n",
    "    \"column_1\": np.array([1,1,2,1,1,1,1,1,1,1,1,1,1,1,1,1,1,1,1]),\n",
    "    \"column_2\": np.array([1,1,1,1,1,1,1,2,2,2,3,3,3,3,4,4,4,5,5]),\n",
    "    \"confidence_level\": 0.95\n",
    "}\n",
    "\n",
    "x = np.array([1,1,2,1,1,1,1,1,1,1,1,1,1,1,1,1,1,1,1])\n",
    "y = np.array([1,1,1,1,1,1,1,2,2,2,3,3,3,3,4,4,4,5,5])\n",
    "\n",
    "frequency = Counter(np.append(x,y))\n",
    "frequencies = list(frequency.values()) # Counting the frequqncies in an array\n",
    "tiescorrection = [(f ** 3 - f) for f in frequencies]; \n",
    "correction = sum(tiescorrection) #This is a correction factor to compensate on ties in the data\n",
    "\n",
    "print(frequency, frequencies, tiescorrection, correction)\n",
    "#TTest.Aparametric_Effect_Size_Independent(params)\n",
    "\n",
    "\n"
   ]
  },
  {
   "cell_type": "code",
   "execution_count": null,
   "metadata": {},
   "outputs": [],
   "source": []
  }
 ],
 "metadata": {
  "kernelspec": {
   "display_name": "Python 3",
   "language": "python",
   "name": "python3"
  },
  "language_info": {
   "codemirror_mode": {
    "name": "ipython",
    "version": 3
   },
   "file_extension": ".py",
   "mimetype": "text/x-python",
   "name": "python",
   "nbconvert_exporter": "python",
   "pygments_lexer": "ipython3",
   "version": "3.9.4"
  },
  "orig_nbformat": 4
 },
 "nbformat": 4,
 "nbformat_minor": 2
}
