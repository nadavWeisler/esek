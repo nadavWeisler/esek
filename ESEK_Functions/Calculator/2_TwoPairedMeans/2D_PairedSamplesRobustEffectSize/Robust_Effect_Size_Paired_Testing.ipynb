{
 "cells": [
  {
   "cell_type": "code",
   "execution_count": 2,
   "metadata": {},
   "outputs": [
    {
     "name": "stdout",
     "output_type": "stream",
     "text": [
      "Results of Robust Effect Size for Paired Samples\n",
      "Explanatory Power Effect Size (Wilcox & Tian, 2011): 0.4111\n",
      "Lower CI (Bootstrapping) Explanatory Power Effect Size: 0.0522\n",
      "Upper CI (Bootstrapping) Explanatory Power Effect Size: 0.7446\n",
      "Robust Effect Size AKP: -0.4517\n",
      "Lower Confidence Interval Robust AKP: -0.995\n",
      "Upper Confidence Interval Robust AKP: 0.0472\n",
      "Trimmed Mean 1: 31.8\n",
      "Trimmed Mean 2: 45.0\n",
      "Winsorized Standard Deviation 1: 16.2745\n",
      "Winsorized Standard Deviation 2: 11.2138\n",
      "Number of Pairs: 25\n",
      "Yuen's T statistic: -1.6718\n",
      "Degrees of Freedom: 14.0\n",
      "p-value: 0.0427\n",
      "Difference Between Means: -13.2\n",
      "Standard Error: 7.8955\n",
      "Winosrized Correlation: -0.4242\n",
      "Correction: 0.0427\n",
      "Explained Variance: 0.169\n",
      "Lower Bootstrap CI's: 0.052222529029099046\n",
      "Upper Bootstrap CI's: 0.7446037148801726\n",
      "Statistical Line Robust AKP effect size: Yuen's \u001b[3mt\u001b[0m(14) = -1.672, \u001b[3mp = \u001b[0m.117, \u001b[3mAKP\u001b[0m = -0.452, 95% CI(Bootstrap) [-0.995, 0.047]\n",
      "Statistical Line Robust Explanatory Effect Size: Yuen's \u001b[3mt\u001b[0m(14) = -1.672, \u001b[3mp = \u001b[0m.117, Wilcox & Tian's ξ = .411, 95% CI(Bootstrap) [.052, .745]\n"
     ]
    }
   ],
   "source": [
    "import Robust_Paired_Samples\n",
    "import numpy as np\n",
    "\n",
    "# From Data\n",
    "params = {\n",
    "    \"column_1\": np.array([21, 11, 51, 49, 52, 47, 12, 53, 17, 50, 14, 33, 10, 50, 49, 52, 47, 22, 25, 3, 9, 51, 16, 18, 19]),\n",
    "    \"column_2\": np.array([22, 48, 14, 55, 33, 44, 50, 22, 48, 16, 46, 23, 48, 50, 49, 52, 47, 50, 45, 53,59,16, 46, 52, 48]),\n",
    "    \"Trimming Level\": 0.2,\n",
    "    \"Confidence Level\": 95,\n",
    "     'Number of Bootstrap Samples': 10000,\n",
    "     'Difference in the Population': 0\n",
    "}\n",
    "\n",
    "# Call the function\n",
    "results = Robust_Paired_Samples.Robust_Paired.Robust_Paired_from_data(params)\n",
    "print(\"Results of Robust Effect Size for Paired Samples\")\n",
    "for key, value in results.items():\n",
    "    print(f\"{key}: {value}\")"
   ]
  },
  {
   "cell_type": "code",
   "execution_count": null,
   "metadata": {},
   "outputs": [],
   "source": []
  },
  {
   "cell_type": "code",
   "execution_count": null,
   "metadata": {},
   "outputs": [],
   "source": []
  }
 ],
 "metadata": {
  "kernelspec": {
   "display_name": "Python 3",
   "language": "python",
   "name": "python3"
  },
  "language_info": {
   "codemirror_mode": {
    "name": "ipython",
    "version": 3
   },
   "file_extension": ".py",
   "mimetype": "text/x-python",
   "name": "python",
   "nbconvert_exporter": "python",
   "pygments_lexer": "ipython3",
   "version": "3.9.4"
  }
 },
 "nbformat": 4,
 "nbformat_minor": 2
}
