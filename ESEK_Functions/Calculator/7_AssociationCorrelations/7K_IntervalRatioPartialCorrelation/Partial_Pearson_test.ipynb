{
 "cells": [
  {
   "cell_type": "code",
   "execution_count": 1,
   "metadata": {},
   "outputs": [
    {
     "name": "stdout",
     "output_type": "stream",
     "text": [
      "Results of partial pearson correlations:\n",
      "Sample Size: 10\n",
      "Partial Correlation: 0.4205707085212364\n",
      "Confidence Intervals Partial Correlation: [-0.49  0.89]\n",
      "p-value partial correlation : 0.3474489566044119\n",
      "Semi Partial Correlation: 0.35406390441137314\n",
      "Confidence Intervals Semi Partial Correlation: [-0.54  0.87]\n",
      "p-value Semi partial correlation : 0.43587891775698284\n"
     ]
    }
   ],
   "source": [
    "import Partial_Pearson\n",
    "import numpy as np\n",
    "import pandas as pd\n",
    "\n",
    "np.random.seed(42)\n",
    "\n",
    "# Number of samples\n",
    "n = 10 \n",
    "\n",
    "# Generate data\n",
    "data = pd.DataFrame({\n",
    "    'independent_variable': np.random.rand(n),\n",
    "    'covariance1': np.random.rand(n),\n",
    "    'covariance2': np.random.rand(n),\n",
    "    'covariance3': np.random.rand(n),\n",
    "    'dependnent_variable': 2 * np.random.rand(n) + np.random.normal(0, 0.5, n)\n",
    "})\n",
    "\n",
    "params = {'Data': data, 'Confidence Level': 95}\n",
    "\n",
    "# Call the function\n",
    "results = Partial_Pearson.Partial_Correlation_Pearson.partial_correlation_from_data(params)\n",
    "\n",
    "# Print the results\n",
    "print(\"Results of partial pearson correlations:\")\n",
    "for key, value in results.items():\n",
    "    print(f\"{key}: {value}\")"
   ]
  }
 ],
 "metadata": {
  "kernelspec": {
   "display_name": "Python 3",
   "language": "python",
   "name": "python3"
  },
  "language_info": {
   "codemirror_mode": {
    "name": "ipython",
    "version": 3
   },
   "file_extension": ".py",
   "mimetype": "text/x-python",
   "name": "python",
   "nbconvert_exporter": "python",
   "pygments_lexer": "ipython3",
   "version": "3.9.4"
  }
 },
 "nbformat": 4,
 "nbformat_minor": 2
}
