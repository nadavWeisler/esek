{
 "cells": [
  {
   "cell_type": "code",
   "execution_count": null,
   "metadata": {},
   "outputs": [
    {
     "name": "stdout",
     "output_type": "stream",
     "text": [
      "Results of R Sqared From Data:\n",
      "Predictor: [[2 1 2]\n",
      " [2 2 1]\n",
      " [2 3 2]\n",
      " [2 4 3]\n",
      " [2 3 2]\n",
      " [3 2 1]\n",
      " [3 1 4]\n",
      " [3 3 5]\n",
      " [3 5 3]\n",
      " [3 4 4]\n",
      " [4 1 4]\n",
      " [4 1 4]\n",
      " [4 1 4]\n",
      " [4 1 4]\n",
      " [4 1 3]\n",
      " [5 2 2]\n",
      " [5 3 1]\n",
      " [5 2 2]\n",
      " [5 1 1]\n",
      " [5 1 2]\n",
      " [5 1 2]\n",
      " [5 1 2]]\n",
      "\n"
     ]
    }
   ],
   "source": [
    "import Multiple_R_Square\n",
    "import numpy as np\n",
    "import pandas as pd\n",
    "\n",
    "# From Data\n",
    "\n",
    "params = {\n",
    "    \"Data\": pd.DataFrame({\n",
    "        \"Predicted\": [1, 2, 3, 4, 3, 2, 1, 3, 5, 4, 3, 2, 2, 2, 1, 2, 1, 2, 3, 2, 1, 1],\n",
    "        \"x1\": [2, 2, 2, 2, 2, 3, 3, 3, 3, 3, 4, 4, 4, 4, 4, 5, 5, 5, 5, 5, 5, 5],\n",
    "        \"x2\": [1, 2, 3, 4, 3, 2, 1, 3, 5, 4, 1, 1, 1, 1, 1, 2, 3, 2, 1, 1, 1, 1],\n",
    "        \"x3\": [2, 1, 2, 3, 2, 1, 4, 5, 3, 4, 4, 4, 4, 4, 3, 2, 1, 2, 1, 2, 2, 2]\n",
    "    }),\n",
    "    \"Confidence Level\": 95\n",
    "}\n",
    "\n",
    "# Call the function\n",
    "results = Multiple_R_Square.R_Squared.R_Squared_From_Data(params)\n",
    "\n",
    "\n",
    "# Print the results\n",
    "print(\"Results of R Sqared From Data:\")\n",
    "for key, value in results.items():\n",
    "    print(f\"{key}: {value}\")\n",
    "\n",
    "print()"
   ]
  },
  {
   "cell_type": "code",
   "execution_count": null,
   "metadata": {},
   "outputs": [],
   "source": []
  }
 ],
 "metadata": {
  "kernelspec": {
   "display_name": "Python 3",
   "language": "python",
   "name": "python3"
  },
  "language_info": {
   "codemirror_mode": {
    "name": "ipython",
    "version": 3
   },
   "file_extension": ".py",
   "mimetype": "text/x-python",
   "name": "python",
   "nbconvert_exporter": "python",
   "pygments_lexer": "ipython3",
   "version": "3.9.4"
  }
 },
 "nbformat": 4,
 "nbformat_minor": 2
}
