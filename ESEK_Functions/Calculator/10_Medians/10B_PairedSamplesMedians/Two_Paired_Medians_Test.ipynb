{
 "cells": [
  {
   "cell_type": "code",
   "execution_count": 1,
   "metadata": {},
   "outputs": [
    {
     "name": "stdout",
     "output_type": "stream",
     "text": [
      "Results of Two Paired Medians from Data:\n",
      "                                                                                                                             : \n",
      "Sample 1 - Median: 30.0\n",
      "Sample 1 - Mean: 32.76\n",
      "Sample 1 - Standard Deviation: 16.483\n",
      "Sample 1 - Range: R = [11-53]\n",
      "Sample 1 - Inter Quartile Range: 32.0\n",
      "Sample 1 - Mean Absolute Deviation: 15.16\n",
      "Sample 1 - Median Absolute Deviation: 17.0\n",
      "                                                                                                                              : \n",
      "Sample 2 - Median: 11.0\n",
      "Sample 2 - Mean: 13.08\n",
      "Sample 2 - Standard Deviation: 7.455\n",
      "Sample 2 - Range: R = [8-47]\n",
      "Sample 2 - Inter Quartile Range: 2.0\n",
      "Sample 2 - Mean Absolute Deviation: 2.88\n",
      "Sample 2 - Median Absolute Deviation: 1.0\n",
      "                                                                                                                                : \n",
      "Median of the Difference: 11.0\n",
      "Mean Absolute Deviation of Difference: 14.52\n",
      "Median Absolute Deviation of Difference: 11.0\n",
      "Inter Quartile Range of Difference: 32.0\n",
      "Standard Deviation of Difference: 16.3165\n",
      "Sample Size (Difference): 25\n",
      "Maximum Value (Difference): 43\n",
      "Minimum Value (Difference): 0\n",
      "Range of the Difference: R = [0-43]\n",
      "                                                                                                                               : \n",
      "Standard Error (Median of Difference): 4.0899\n",
      "Standard Error (Median AD): 2.6037\n",
      "Standard Error (IQR): 5.1347\n",
      "p-value Median: 0.9936\n",
      "p-value Sign Test: nan\n",
      "p-value Wilcoxon Test: 0.0001\n",
      "Hodges-Lehmann Estimator (Paired Samples): 20.0\n",
      "Confidence Interval (HL Estimator): (20.0, 10.5)\n",
      "                                                                                                                                 : \n",
      "Effect Size ΔIQR : 0.3438\n",
      "Effect Size ΔMAD : 0.5789\n",
      "Effect Size ΔMAD Corrected : 0.3905\n",
      "Effect Size ΔBW : 0.6457\n",
      "Effect Size Δs : 0.6742\n",
      "Effect Size ΔQN : 1.2377\n",
      "Median Shift Effect Size : 0.44\n",
      "Mangiafico's D : 0.6459\n",
      "                                                                                                                                  : \n",
      "Difference Between Medians: 19.0\n",
      "Lower CI: 10.9839\n",
      "Upper CI: 27.0161\n",
      "Lower CI (Price-Bonett): 4.2138\n",
      "Upper CI (Price-Bonett): 33.7862\n",
      "                                                                                                                                    : \n",
      "Ratio of Medians: 2.7273\n",
      "Lower CI Ratio of Medians: 1.6858\n",
      "Upper CI Ratio of Medians: 4.4122\n"
     ]
    },
    {
     "name": "stderr",
     "output_type": "stream",
     "text": [
      "C:\\Users\\EldadKeha\\AppData\\Roaming\\Python\\Python39\\site-packages\\scipy\\stats\\_morestats.py:4088: UserWarning: Exact p-value calculation does not work if there are zeros. Switching to normal approximation.\n",
      "  warnings.warn(\"Exact p-value calculation does not work if there are \"\n"
     ]
    }
   ],
   "source": [
    "import Two_Paired_Medians\n",
    "\n",
    "# From Data\n",
    "params = {\n",
    "    \"Column 1\": [21, 11, 51, 49, 52, 47, 12, 53, 17, 50, 14, 33, 11, 50, 49, 52, 47, 22, 25, 30, 19, 51, 16, 18, 19],\n",
    "    \"Column 2\": [10, 11, 13, 11, 11, 47, 12, 10, 11, 12, 13, 9, 11, 10, 19, 12, 17, 12, 15, 10, 10, 11, 11, 11, 8],\n",
    "    \"Difference in the Population\": 0,\n",
    "    \"Confidence Level\": 95\n",
    "}\n",
    "\n",
    "# Call the function\n",
    "results = Two_Paired_Medians.TwoPairedMedians.Two_Paired_Medians_From_Data(params)\n",
    "\n",
    "# Print the results\n",
    "print(\"Results of Two Paired Medians from Data:\")\n",
    "for key, value in results.items():\n",
    "    print(f\"{key}: {value}\")\n",
    "\n",
    "\n"
   ]
  },
  {
   "cell_type": "code",
   "execution_count": null,
   "metadata": {},
   "outputs": [],
   "source": []
  },
  {
   "cell_type": "code",
   "execution_count": null,
   "metadata": {},
   "outputs": [],
   "source": []
  }
 ],
 "metadata": {
  "kernelspec": {
   "display_name": "Python 3",
   "language": "python",
   "name": "python3"
  },
  "language_info": {
   "codemirror_mode": {
    "name": "ipython",
    "version": 3
   },
   "file_extension": ".py",
   "mimetype": "text/x-python",
   "name": "python",
   "nbconvert_exporter": "python",
   "pygments_lexer": "ipython3",
   "version": "3.9.4"
  }
 },
 "nbformat": 4,
 "nbformat_minor": 2
}
