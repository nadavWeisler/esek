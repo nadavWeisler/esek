{
 "cells": [
  {
   "cell_type": "code",
   "execution_count": 1,
   "metadata": {},
   "outputs": [
    {
     "name": "stdout",
     "output_type": "stream",
     "text": [
      "Results of Multiple Dependent Medians\n",
      "\n",
      "Descreptive Statistics Table: \n",
      ":      Column   IQR   MAD  Median  Trimmed Mean\n",
      "0  Column_1  17.0   4.0    48.0          45.0\n",
      "1  Column_2  34.0  16.0    25.0          31.8\n",
      "_____________________________: \n",
      "Sample Size: 25\n",
      "Number : 5.0\n",
      "Number 2 : 2\n",
      "Mean of the Trimmed Means: [45.0, 31.8]\n",
      "Gc: 1306.8\n",
      "df:     Column_1  Column_2\n",
      "0         22        21\n",
      "1         48        11\n",
      "2         14        51\n",
      "3         55        49\n",
      "4         33        52\n",
      "5         44        47\n",
      "6         50        12\n",
      "7         22        53\n",
      "8         48        17\n",
      "9         16        50\n",
      "10        46        14\n",
      "11        23        33\n",
      "12        48        11\n",
      "13        50        50\n",
      "14        49        49\n",
      "15        52        52\n",
      "16        47        47\n",
      "17        50        22\n",
      "18        45        25\n",
      "19        53         3\n",
      "20        59         9\n",
      "21        16        51\n",
      "22        46        16\n",
      "23        52        18\n",
      "24        48        19\n"
     ]
    }
   ],
   "source": [
    "import Multi_Dep_Medians\n",
    "\n",
    "\n",
    "# From Data\n",
    "params = {\n",
    "    \"Column_1\": [22, 48, 14, 55, 33, 44, 50, 22, 48, 16, 46, 23, 48, 50, 49, 52, 47, 50, 45, 53, 59, 16, 46, 52, 48],\n",
    "    \"Column_2\": [21, 11, 51, 49, 52, 47, 12, 53, 17, 50, 14, 33, 11, 50, 49, 52, 47, 22, 25, 3,   9, 51, 16, 18, 19],\n",
    "    \"Trimming Level\": 0.2,\n",
    "    \"Confidence Level\": 95\n",
    "}\n",
    "\n",
    "# Call the function\n",
    "results = Multi_Dep_Medians.Multiple_Dependent_Medians.Multiple_Dependent_Medians_From_Data(params)\n",
    "print(\"Results of Multiple Dependent Medians\")\n",
    "print()\n",
    "for key, value in results.items():\n",
    "    print(f\"{key}: {value}\")\n",
    "\n",
    "\n"
   ]
  },
  {
   "cell_type": "code",
   "execution_count": null,
   "metadata": {},
   "outputs": [],
   "source": []
  }
 ],
 "metadata": {
  "kernelspec": {
   "display_name": "Python 3",
   "language": "python",
   "name": "python3"
  },
  "language_info": {
   "codemirror_mode": {
    "name": "ipython",
    "version": 3
   },
   "file_extension": ".py",
   "mimetype": "text/x-python",
   "name": "python",
   "nbconvert_exporter": "python",
   "pygments_lexer": "ipython3",
   "version": "3.9.4"
  }
 },
 "nbformat": 4,
 "nbformat_minor": 2
}
