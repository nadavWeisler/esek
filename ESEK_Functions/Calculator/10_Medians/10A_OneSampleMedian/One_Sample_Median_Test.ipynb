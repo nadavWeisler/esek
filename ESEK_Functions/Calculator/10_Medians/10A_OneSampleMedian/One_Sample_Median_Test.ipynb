{
 "cells": [
  {
   "cell_type": "code",
   "execution_count": 3,
   "metadata": {},
   "outputs": [
    {
     "name": "stdout",
     "output_type": "stream",
     "text": [
      "Results of One Sample Median from Data:\n",
      "Sample Size: 6\n",
      "Sample's Median: 8.0\n",
      "Sample's Mean: 10.3333\n",
      "Sample's Standard Deviation: 10.328\n",
      "Pseudo Median (Hodghes Lhemann): 10.0\n",
      "Hodges-Lehmann Estimator (Monahan Algorithm): 8.0\n",
      "Harrell-Davis Estimator: 9.332496135869023\n",
      "Range: R = 27 = (-2, 25)\n",
      "Inter Quartile Range: 13.75\n",
      "Mean Absolute Deviation: 8.0\n",
      "Median Absolute Deviation: 7.5\n",
      "Mean Absolute Deviation Corrected: 9.399750000000001\n",
      "Median Absolute Deviation Corrected: 11.119499999999999\n",
      "Qn (Rousseeuw and Croux): 13.331400000000002\n",
      "Median Confidence Intervals Basic Bootstrapping: (-6.5, 15.5)\n",
      "Median Confidence Intervals Percentile Bootstrapping: (0.5, 22.5)\n",
      "Median Confidence Intervals Bias Corrected Bootstrapping: (-2.0, 20.0)\n",
      "Median Confidence Intervals Normal Bootstrapping: (-2.8487, 18.8487)\n",
      "Median Confidence Interval Hodges-Lehmann Estimator: (-2.0, 25.0)\n",
      "Median Confidence Intervals Sign Test Exact CI: (-2.0, 25.0)\n",
      "Median Confidence Intervals Nonparametric Based on Exact Wilcox Test: [-2, 25]\n",
      "Median Confidence Intervals Nonparametric Based on Non-Parametric Approximated Wilcox Test: [2, 20]\n",
      "Median Confidence Intervals Nonparametric Based on Non-Parametric Approximated Corrected Wilcox Test : [0.49995, 22.5]\n",
      "Median Confidence Intervals MAD based : (-3.6692, 19.6692)\n",
      "Effect Size ΔIQR : 0.5818\n",
      "Effect Size ΔMAD : 1.0667\n",
      "Effect Size ΔMAD Corrected : 0.7195\n",
      "Effect Size ΔBW : 0.7933\n",
      "Effect Size Δs : 0.7746\n",
      "Effect Size ΔQN : 0.6001\n",
      "Median Shift Effect Size : 0.6667\n",
      "Statistic Wilcoxon Exact: 1.0\n",
      "Statistic Wilcoxon Approximated: 1.0\n",
      "Statistic Wilcoxon Approximated Corrected: 1.0\n",
      "Statistic Exact Sign Test: [5.]\n",
      "Statistic t-MAD based: 1.7623\n",
      "p-value Sign Test: [0.2188]\n",
      "p-value Wilcoxon Exact: 0.0625\n",
      "p-value Wilcoxon Approximated: 0.046399461870904594\n",
      "p-value Wilcoxon Approximated Corrected: 0.05917206782585941\n",
      "p-value Median MAD Based: 0.0692\n",
      "Confidence Interval ΔIQR: [0.069  3.3333]\n",
      "Confidence Interval ΔMAD: [0.2 nan]\n",
      "Confidence Interval ΔMAD Corrected: [0.1349    nan]\n",
      "Confidence Interval ΔBW: [0.1227    nan]\n",
      "Confidence Interval Δs: [0.085  2.5265]\n",
      "Confidence Interval ΔQN: [0.09  nan]\n",
      "Confidence Interval Median Shift Effect Size: [0.5 1. ]\n",
      "Statistical Line ΔIQR:  \u001b[3mS\u001b[0m = 5, \u001b[3mp = \u001b[0m.219, ΔIQR = 0.582, 95% CI(Bootstrapping) [0.069,3.333]\n",
      "Statistical Line ΔMAD:  \u001b[3mS\u001b[0m = 5, \u001b[3mp = \u001b[0m.219, ΔMAD = 1.067, 95% CI(Bootstrapping) [0.200,nan]\n",
      "Statistical Line ΔMAD Corrected:  \u001b[3mS\u001b[0m = 5, \u001b[3mp = \u001b[0m.219, ΔMAD Corrected = 0.719, 95% CI(Bootstrapping) [0.135,nan]\n",
      "Statistical Line Δs:  \u001b[3mS\u001b[0m = 5, \u001b[3mp = \u001b[0m.219, Δs = 0.775, 95% CI(Bootstrapping) [0.085,2.526]\n",
      "Statistical Line ΔQN:  \u001b[3mS\u001b[0m = 5, \u001b[3mp = \u001b[0m.219, ΔQn = 0.600, 95% CI(Bootstrapping) [0.090,nan]\n",
      "Statistical Line Δbw:  \u001b[3mS\u001b[0m = 5, \u001b[3mp = \u001b[0m.219, ΔBW = 0.793, 95% CI(Bootstrapping) [0.123,nan]\n",
      "Statistical Line Median Shift Effect Size :  \u001b[3mS\u001b[0m = 5, \u001b[3mp = \u001b[0m.219, Median Shift Effect Size = 0.667, 95% CI(Bootstrapping) [0.500,1.000]\n"
     ]
    }
   ],
   "source": [
    "import One_Sample_Median\n",
    "import numpy as np\n",
    "\n",
    "# From Data\n",
    "params = {\n",
    "    #\"Column 1\": np.array([21, -11, 51, 49, 52, -47, 12, -53, -17, 50, -14, -33, 11, 50, -49, 52, 47, 22, -25, 30, -19, 51, 16, 18, 19]),\n",
    "    \"Column 1\": np.array([-2,3,6,10,20,25]),\n",
    "\n",
    "    \"Population Median\": 0,\n",
    "    \"Number of Bootstrapping Samples\": 1000,\n",
    "    \"Confidence Level\": 95\n",
    "}\n",
    "\n",
    "# Call the function\n",
    "results = One_Sample_Median.One_Sample_median.one_sample_median(params)\n",
    "\n",
    "# Print the results\n",
    "print(\"Results of One Sample Median from Data:\")\n",
    "for key, value in results.items():\n",
    "    print(f\"{key}: {value}\")\n",
    "\n",
    "\n"
   ]
  },
  {
   "cell_type": "code",
   "execution_count": null,
   "metadata": {},
   "outputs": [],
   "source": []
  }
 ],
 "metadata": {
  "kernelspec": {
   "display_name": "Python 3",
   "language": "python",
   "name": "python3"
  },
  "language_info": {
   "codemirror_mode": {
    "name": "ipython",
    "version": 3
   },
   "file_extension": ".py",
   "mimetype": "text/x-python",
   "name": "python",
   "nbconvert_exporter": "python",
   "pygments_lexer": "ipython3",
   "version": "3.9.4"
  }
 },
 "nbformat": 4,
 "nbformat_minor": 2
}
