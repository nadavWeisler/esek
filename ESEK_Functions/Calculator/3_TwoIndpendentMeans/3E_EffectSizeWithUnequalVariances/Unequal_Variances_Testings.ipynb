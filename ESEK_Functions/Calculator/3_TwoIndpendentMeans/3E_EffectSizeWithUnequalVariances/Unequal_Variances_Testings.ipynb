{
 "cells": [
  {
   "cell_type": "code",
   "execution_count": 1,
   "metadata": {},
   "outputs": [
    {
     "name": "stdout",
     "output_type": "stream",
     "text": [
      "Results of Indpednent Samples t-test from Parameters:\n",
      "Welch's t-score: 4.9322\n",
      "Degrees of Freedom: 20.4416\n",
      "P-Value: 0.0001\n",
      "Mean Difference: 5.4\n",
      "Aoki's Epsilon: 2.0136\n",
      "Aoki's Epsilon Unbiased: 1.9386\n",
      "Aoki's Epsilon Standard Error: 0.2961\n",
      "Aoki's Epsilon Unbiased Standard Error: 0.2745\n",
      "Aoki's Epsilon Standardizer: 2.6818\n",
      "Aoki's Epsilon Unbiased Standardizer: 2.7855\n",
      "Lower Confidence Interval Aoki's Epsilon: 0.9898\n",
      "Upper Confidence Interval Aoki's Epsilon: 3.0061\n",
      "Lower Confidence Interval Aoki's Epsilon Unbiased: 0.953\n",
      "Upper Confidence Interval Aoki's Epsilon Unbiased: 2.8942\n",
      "Correction Factor: 0.9628\n",
      "Statistical Line Epsilon:  Welch's \u001b[3mt\u001b[0m(20.442) = 4.932, \u001b[3mp\u001b[0m < .001, Aoki's ε = 2.014, 95% CI(Pivotal) [0.990, 3.006]\n",
      "Statistical Line Epsilon Unbiased:  Welch's \u001b[3mt\u001b[0m(20.442) = 4.932, \u001b[3mp\u001b[0m < .001, Aoki's ε = 1.939, 95% CI(Pivotal) [0.953, 2.894]\n",
      "\n",
      "Results of Indpednent Samples t-test from Data\n",
      "Welch's t-score: 1.1952\n",
      "Degrees of Freedom: 6.7586\n",
      "P-Value: 0.2722\n",
      "Mean Difference: 1.0\n",
      "Aoki's Epsilon: 0.7559\n",
      "Aoki's Epsilon Unbiased: 0.6683\n",
      "Aoki's Epsilon Standard Error: 0.631\n",
      "Aoki's Epsilon Unbiased Standard Error: 0.4931\n",
      "Aoki's Epsilon Standardizer: 1.3229\n",
      "Aoki's Epsilon Unbiased Standardizer: 1.4964\n",
      "Lower Confidence Interval Aoki's Epsilon: -0.5699\n",
      "Upper Confidence Interval Aoki's Epsilon: 2.0321\n",
      "Lower Confidence Interval Aoki's Epsilon Unbiased: -0.5038\n",
      "Upper Confidence Interval Aoki's Epsilon Unbiased: 1.7965\n",
      "Correction Factor: 0.884\n",
      "Statistical Line Epsilon:  Welch's \u001b[3mt\u001b[0m(6.759) = 1.195, \u001b[3mp = \u001b[0m.272, Aoki's ε = 0.756, 95% CI(Pivotal) [-0.570, 2.032]\n",
      "Statistical Line Epsilon Unbiased:  Welch's \u001b[3mt\u001b[0m(6.759) = 1.195, \u001b[3mp = \u001b[0m.272, Aoki's ε = 0.668, 95% CI(Pivotal) [-0.504, 1.796]\n"
     ]
    }
   ],
   "source": [
    "import Unequal_Variances\n",
    "\n",
    "# From Parameters\n",
    "params = {\n",
    "    \"Difference in the Population\": 10,\n",
    "    \"Standart Deviation of the Difference in the Population\": 15,\n",
    "    \"Mean 1\": 69.7,\n",
    "    \"Mean 2\": 64.3,\n",
    "    \"Standard Deviation 1\": 2.8,\n",
    "    \"Standard Deviation 2\": 2.6,\n",
    "    \"Sample Size 1\": 15,\n",
    "    \"Sample Size 2\": 10,\n",
    "    \"Difference in the Population\": 0, \n",
    "    \"Confidence Level\": 95\n",
    "}\n",
    "\n",
    "# Call the function\n",
    "results = Unequal_Variances.Indpendnent_samples_unequal_variance.Unequal_Variances_from_parameters(params)\n",
    "\n",
    "# Print the results\n",
    "print(\"Results of Indpednent Samples t-test from Parameters:\")\n",
    "for key, value in results.items():\n",
    "    print(f\"{key}: {value}\")\n",
    "\n",
    "print()\n",
    "\n",
    "# From Data\n",
    "params = {\n",
    "    \"column_1\": [0,1,2,3,4],\n",
    "    \"column_2\": [0,0,1,2,2],\n",
    "    \"Difference in the Population\": 0,\n",
    "    \"Confidence Level\": 95\n",
    "}\n",
    "\n",
    "# Call the function\n",
    "results = Unequal_Variances.Indpendnent_samples_unequal_variance.Unequal_Variances_from_data(params)\n",
    "print(\"Results of Indpednent Samples t-test from Data\")\n",
    "for key, value in results.items():\n",
    "    print(f\"{key}: {value}\")\n"
   ]
  },
  {
   "cell_type": "code",
   "execution_count": null,
   "metadata": {},
   "outputs": [],
   "source": []
  }
 ],
 "metadata": {
  "kernelspec": {
   "display_name": "Python 3",
   "language": "python",
   "name": "python3"
  },
  "language_info": {
   "codemirror_mode": {
    "name": "ipython",
    "version": 3
   },
   "file_extension": ".py",
   "mimetype": "text/x-python",
   "name": "python",
   "nbconvert_exporter": "python",
   "pygments_lexer": "ipython3",
   "version": "3.9.4"
  }
 },
 "nbformat": 4,
 "nbformat_minor": 2
}
