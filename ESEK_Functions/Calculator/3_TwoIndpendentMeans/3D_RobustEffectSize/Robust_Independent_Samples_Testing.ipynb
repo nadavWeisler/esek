{
 "cells": [
  {
   "cell_type": "code",
   "execution_count": 1,
   "metadata": {},
   "outputs": [
    {
     "name": "stdout",
     "output_type": "stream",
     "text": [
      "Results of Robust Effect Size for Indpendendt Samples\n",
      "Trimmed Mean 1: 30.5625\n",
      "Trimmed Mean 2: 45.0\n",
      "Winsorized Standard Deviation 1: 16.8465\n",
      "Winsorized Standard Deviation 2: 11.2138\n",
      "Sample Size 1: 26\n",
      "Sample Size 2: 26\n",
      "Yuen's T statistic: 2.2104\n",
      "Degrees of Freedom: 26.1112\n",
      "p-value: 0.036\n",
      "Difference Between Means: -14.4375\n",
      "Standard Error: 6.5316\n",
      "Robust Effect Size AKP: -0.6477\n",
      "Lower Confidence Interval Robust AKP: -1.464635023097605\n",
      "Upper Confidence Interval Robust AKP: -0.06827510194243037\n",
      "Explanatory Power Effect Size (Wilcox & Tian, 2011): 0.4374\n",
      "Lower CI (Bootstrapping) Explanatory Power Effect Size: 0.0649\n",
      "Upper CI (Bootstrapping) Explanatory Power Effect Size: 0.753\n",
      "Statistical Line Robust AKP Effect Size: Yuen's \u001b[3mt\u001b[0m(26.111) = 2.210, \u001b[3mp = \u001b[0m.036, \u001b[3mAKP\u001b[0m = -0.648, 95% CI(Bootstrap) [-1.465, -0.068]\n",
      "Statistical Line Robust Explanatory Effect Size: Yuen's \u001b[3mt\u001b[0m(26.111) = 2.210, \u001b[3mp = \u001b[0m.036, Wilcox & Tian's ξ = .437, 95% CI(Bootstrap) [.065, .753]\n"
     ]
    }
   ],
   "source": [
    "import Robust_Independent_Samples\n",
    "import numpy as np\n",
    "\n",
    "# From Data\n",
    "params = {\n",
    "    \"column_1\": np.array([21, 11, 51, 49, 52, 47, 12, 53, 17, 50, 14, 33, 11, 50, 49, 52, 47, 22, 25, 3, 9, 51, 16, 18, 19, 12]),\n",
    "    \"column_2\": np.array([22, 48, 14, 55, 33, 44, 50, 22, 48, 16, 46, 23, 48, 50, 49, 52, 47, 50, 45, 53,59,16, 46, 52, 48]),\n",
    "    \"Trimming Level\": 0.2,\n",
    "    \"Confidence Level\": 95,\n",
    "     'Number of Bootstrap Samples': 10000,\n",
    "     'Difference in the Population': 0\n",
    "}\n",
    "\n",
    "# Call the function\n",
    "results = Robust_Independent_Samples.Robust_Independent.Robust_indpendent_samples_from_data(params)\n",
    "print(\"Results of Robust Effect Size for Indpendendt Samples\")\n",
    "for key, value in results.items():\n",
    "    print(f\"{key}: {value}\")"
   ]
  },
  {
   "cell_type": "code",
   "execution_count": null,
   "metadata": {},
   "outputs": [],
   "source": []
  }
 ],
 "metadata": {
  "kernelspec": {
   "display_name": "Python 3",
   "language": "python",
   "name": "python3"
  },
  "language_info": {
   "codemirror_mode": {
    "name": "ipython",
    "version": 3
   },
   "file_extension": ".py",
   "mimetype": "text/x-python",
   "name": "python",
   "nbconvert_exporter": "python",
   "pygments_lexer": "ipython3",
   "version": "3.9.4"
  }
 },
 "nbformat": 4,
 "nbformat_minor": 2
}
