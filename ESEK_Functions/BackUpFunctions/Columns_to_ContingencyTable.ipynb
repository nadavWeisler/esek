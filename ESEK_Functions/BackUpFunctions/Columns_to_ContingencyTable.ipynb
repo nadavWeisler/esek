{
 "cells": [
  {
   "cell_type": "code",
   "execution_count": 89,
   "metadata": {},
   "outputs": [
    {
     "name": "stdout",
     "output_type": "stream",
     "text": [
      "Number of elements in x and y must be equal.\n"
     ]
    }
   ],
   "source": [
    "import numpy as np\n",
    "import pandas as pd\n",
    "\n",
    "x = np.array([\"a\", \"c\", \"a\", \"b\", \"a\", \"\"])\n",
    "y = np.array([\"a\", \"b\", \"a\", \"b\", \"a\"])\n",
    "\n",
    "\n",
    "def Columns_to_Contingency(x, y):\n",
    "    contingency_table = None  # Initialize contingency_table outside the try block\n",
    "    try:\n",
    "        # Check if x and y have the same length\n",
    "        if len(x) != len(y):\n",
    "            raise ValueError(\"Number of elements in x and y must be equal.\")\n",
    "\n",
    "        # Filter out empty cells from both x and y using the same indices\n",
    "        non_empty_indices = np.where((x != \"\") & (y != \"\"))\n",
    "        x = x[non_empty_indices]\n",
    "        y = y[non_empty_indices]\n",
    "\n",
    "        # Check if the sample sizes of x and y are equal\n",
    "        if len(x) != len(y):\n",
    "            raise ValueError(\"Sample sizes of x and y must be equal.\")\n",
    "\n",
    "        # Convert categorical variables to numerical values\n",
    "        x_categories, x_numeric = np.unique(x, return_inverse=True)\n",
    "        y_categories, y_numeric = np.unique(y, return_inverse=True)\n",
    "\n",
    "        # Create a contingency table\n",
    "        contingency_table = np.zeros((len(x_categories), len(y_categories)), dtype=int)\n",
    "\n",
    "        for i in range(len(x)):\n",
    "            contingency_table[x_numeric[i], y_numeric[i]] += 1\n",
    "\n",
    "        # Create a DataFrame with the contingency table\n",
    "        df = pd.DataFrame(contingency_table, index=x_categories, columns=y_categories)\n",
    "        \n",
    "        # Print the contingency table\n",
    "        print(contingency_table)\n",
    "\n",
    "    except ValueError as e:\n",
    "        print(e)\n",
    "\n",
    "    return contingency_table\n",
    "\n",
    "\n",
    "d = Columns_to_Contingency(x, y)\n",
    "\n",
    "\n",
    "\n",
    "\n",
    "\n"
   ]
  },
  {
   "cell_type": "code",
   "execution_count": null,
   "metadata": {},
   "outputs": [],
   "source": []
  },
  {
   "cell_type": "code",
   "execution_count": null,
   "metadata": {},
   "outputs": [],
   "source": []
  }
 ],
 "metadata": {
  "kernelspec": {
   "display_name": "Python 3",
   "language": "python",
   "name": "python3"
  },
  "language_info": {
   "codemirror_mode": {
    "name": "ipython",
    "version": 3
   },
   "file_extension": ".py",
   "mimetype": "text/x-python",
   "name": "python",
   "nbconvert_exporter": "python",
   "pygments_lexer": "ipython3",
   "version": "3.9.4"
  }
 },
 "nbformat": 4,
 "nbformat_minor": 2
}
