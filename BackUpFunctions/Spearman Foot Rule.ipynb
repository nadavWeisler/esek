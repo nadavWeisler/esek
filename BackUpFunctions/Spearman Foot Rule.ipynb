{
 "cells": [
  {
   "cell_type": "code",
   "execution_count": 15,
   "metadata": {},
   "outputs": [
    {
     "data": {
      "text/plain": [
       "{'Spearman Footrule': 0.5238095238095238,\n",
       " 'Exact p_value': 0.030952380952380953,\n",
       " 'Statistic': 2.116950987028628,\n",
       " 'Standard_Error_H0': 0.24743582965269675,\n",
       " 'Approximated_p_value': 0.03426647009130634,\n",
       " 'Confidence Intervals Spearman Footrule': '(0.0388, 1.0088)'}"
      ]
     },
     "execution_count": 15,
     "metadata": {},
     "output_type": "execute_result"
    }
   ],
   "source": [
    "import numpy as np\n",
    "import pandas as pd\n",
    "import scipy.stats\n",
    "from scipy.stats import rankdata, t, norm\n",
    "import math\n",
    "\n",
    "x = np.array([8,6,2,4,7,5,1,3])\n",
    "y = np.array([7,6,4,2,8,5,3,1])\n",
    "confidence_level = 0.95\n",
    "\n",
    "\n",
    "def calculate_p_value_from_z_score(score):\n",
    "    p_value = scipy.stats.t.sf((abs(score)), 100000) * 2\n",
    "    return min(float(p_value), 0.99999)\n",
    "\n",
    "\n",
    "def Spearman_FootRule(x,y, confidence_level):\n",
    "    Data = pd.DataFrame({'x': x, 'y': y})\n",
    "    x_ranked, y_ranked = rankdata(x), rankdata(y)\n",
    "\n",
    "    Sum_of_the_Difference = np.sum(np.abs(x_ranked - y_ranked))\n",
    "    sample_size = len(x)\n",
    "    Spearman_Foot_Rule = 1 - 3 * Sum_of_the_Difference / (sample_size**2 - 1)\n",
    "    Standard_Error = np.sqrt((2 * sample_size**2 + 7) / (5 * (sample_size + 1) * (sample_size - 1)**2))\n",
    "\n",
    "    # Approximated SIGNIFICANCE AND CONFIDENCE INTERVALS\n",
    "    Statistic = Spearman_Foot_Rule / Standard_Error\n",
    "    Approximated_p_Value = calculate_p_value_from_z_score(Statistic)\n",
    "\n",
    "    zcrit = scipy.stats.t.ppf(1 - (1 - confidence_level) / 2, 100000)\n",
    "    Lower_ci_Spearman_Foot_Rule = (Spearman_Foot_Rule - zcrit * Standard_Error)\n",
    "    Upper_ci_Spearman_Foot_Rule = (Spearman_Foot_Rule + zcrit * Standard_Error)\n",
    "\n",
    "    # Exact Significance - The p_value exact method is based on Berry et al., 2021\n",
    "    observed_difference = np.sum(np.abs(Data['x'] - Data['y']))\n",
    "    Spearman_Foot_Statistic = 1 - 3 * observed_difference / (sample_size**2 - 1)\n",
    "    adjusted_difference = observed_difference + 0.000001\n",
    "\n",
    "    def permutations_matrix(X):\n",
    "        return np.array([[1]]) if X == 1 else np.vstack([np.column_stack((np.full((r := permutations_matrix(X - 1)).shape[0], i), r + (r >= i))) for i in range(1, X + 1)])\n",
    "\n",
    "    permutation_matrix, Counte_Cases_Larger = permutations_matrix(sample_size), 0\n",
    "    for i in range(math.factorial(sample_size)):\n",
    "        current_difference = np.sum(np.abs(Data['x'] - permutation_matrix[i, :]))\n",
    "        Counte_Cases_Larger += 1 if current_difference <= adjusted_difference else 0\n",
    "\n",
    "    p_value_exact = Counte_Cases_Larger / math.factorial(sample_size)\n",
    "    \n",
    "    results= {}\n",
    "\n",
    "    results[\"Spearman Footrule\"]= Spearman_Foot_Statistic\n",
    "    results[\"Exact p_value\"] = p_value_exact\n",
    "    results[\"Statistic\"]= Statistic\n",
    "    results[\"Standard_Error_H0\"]= Standard_Error\n",
    "    results[\"Approximated_p_value\"] = Approximated_p_Value\n",
    "    results[\"Confidence Intervals Spearman Footrule\"] = f\"({round(Lower_ci_Spearman_Foot_Rule, 4)}, {round(Upper_ci_Spearman_Foot_Rule, 4)})\"\n",
    "\n",
    "    result_str = \"\\n\".join([f\"{key}: {value}\" for key, value in results.items()])\n",
    "    return results\n",
    "\n",
    "Spearman_FootRule(x,y,0.95)\n",
    "\n",
    "\n",
    "\n",
    "\n"
   ]
  },
  {
   "cell_type": "code",
   "execution_count": null,
   "metadata": {},
   "outputs": [],
   "source": []
  }
 ],
 "metadata": {
  "kernelspec": {
   "display_name": "Python 3",
   "language": "python",
   "name": "python3"
  },
  "language_info": {
   "codemirror_mode": {
    "name": "ipython",
    "version": 3
   },
   "file_extension": ".py",
   "mimetype": "text/x-python",
   "name": "python",
   "nbconvert_exporter": "python",
   "pygments_lexer": "ipython3",
   "version": "3.9.4"
  },
  "orig_nbformat": 4
 },
 "nbformat": 4,
 "nbformat_minor": 2
}
