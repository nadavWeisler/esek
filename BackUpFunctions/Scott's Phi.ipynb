{
 "cells": [
  {
   "cell_type": "code",
   "execution_count": 19,
   "metadata": {},
   "outputs": [
    {
     "data": {
      "text/plain": [
       "{\"Scott's Phi\": 0.13793103448275856,\n",
       " 'Z-Statistic': 0.7986952322845514,\n",
       " 'p_value': 0.42446904883878955,\n",
       " \"Standart Error Scott's Phi\": 0.17269545241709647,\n",
       " 'Confidence Intervals Kappa': '(-0.2005, 0.4764)'}"
      ]
     },
     "execution_count": 19,
     "metadata": {},
     "output_type": "execute_result"
    }
   ],
   "source": [
    "import numpy as np\n",
    "import scipy.stats as st\n",
    "\n",
    "\n",
    "Contingency_Table = np.array([[4,4,2],[2,6,0],[0,2,0]])\n",
    "confidence_level = 0.95\n",
    "\n",
    "def calculate_p_value_from_z_score(score):\n",
    "    p_value = st.t.sf((abs(score)), 100000) * 2\n",
    "    return min(float(p_value), 0.99999)\n",
    "\n",
    "# Note that we used the CI irrCAC used the t distribution while we used the Z distribution as most packages do\n",
    "\n",
    "def scotts_pi(Contingency_Table, confidence_level):\n",
    "    Sample_Size = np.sum(Contingency_Table)\n",
    "    Number_Of_Levels = Contingency_Table.shape[1]\n",
    "\n",
    "    Weights = np.eye(Number_Of_Levels)\n",
    "    Percentages_of_Agreement = np.sum(Weights * Contingency_Table / Sample_Size)\n",
    "    Sum_of_Coloumns = np.sum(Contingency_Table, axis=0) / Sample_Size\n",
    "    Sum_of_Rows = np.transpose(np.sum(Contingency_Table, axis=1) / Sample_Size)\n",
    "    Joint_Distribution = (Sum_of_Coloumns + Sum_of_Rows) / 2\n",
    "    Percentage_Of_Disagreement = np.sum(Weights * np.outer(Joint_Distribution, Joint_Distribution))\n",
    "    Scotts_Pi = (Percentages_of_Agreement - Percentage_Of_Disagreement) / (1 - Percentage_Of_Disagreement)\n",
    "\n",
    "    # Calcaulate the Varaince\n",
    "    Probability_Table = Contingency_Table / Sample_Size\n",
    "    Probability_Rows = np.dot(Weights, Sum_of_Rows)\n",
    "    Probability_Coloumns = np.dot(np.transpose(Weights), Sum_of_Coloumns)\n",
    "    Joint_Probabilities = (Probability_Rows + Probability_Coloumns) / 2\n",
    "    Term1 = sum(Probability_Table[k, l] * (Weights[k, l] - (1 - Scotts_Pi) * (Joint_Probabilities[k] + Joint_Probabilities[l]))**2 for k in range(Number_Of_Levels) for l in range(Number_Of_Levels))\n",
    "    Standart_Error_Scotts_Pi = np.sqrt((1 / (Sample_Size * (1 - Percentage_Of_Disagreement)**2)) * (Term1 - (Percentages_of_Agreement - 2 * (1 - Scotts_Pi) * Percentage_Of_Disagreement)**2))\n",
    "\n",
    "    # Significance and confidence Intervals\n",
    "    Statistic = Scotts_Pi / Standart_Error_Scotts_Pi\n",
    "    p_value = calculate_p_value_from_z_score(Statistic)\n",
    "\n",
    "    # Confidence Interval\n",
    "    zcrit = st.t.ppf(1 - (1 - confidence_level) / 2, 100000)\n",
    "    Lower_Confidence_Interval_Scotts_Pi = Scotts_Pi - Standart_Error_Scotts_Pi*zcrit\n",
    "    Upper_Confidence_Interval_Kappa_Scotts_Pi = Scotts_Pi + Standart_Error_Scotts_Pi*zcrit\n",
    "\n",
    "    results = {}\n",
    "\n",
    "    results[\"Scott's Phi\"]= Scotts_Pi\n",
    "    results[\"Z-Statistic\"]= Statistic\n",
    "    results[\"p_value\"] = p_value\n",
    "    results[\"Standart Error Scott's Phi\"] = Standart_Error_Scotts_Pi\n",
    "    results[\"Confidence Intervals Kappa\"] = f\"({round(Lower_Confidence_Interval_Scotts_Pi, 4)}, {round(Upper_Confidence_Interval_Kappa_Scotts_Pi, 4)})\"\n",
    "\n",
    "    result_str = \"\\n\".join([f\"{key}: {value}\" for key, value in results.items()])\n",
    "    return results\n",
    "\n",
    "scotts_pi(Contingency_Table, confidence_level)\n",
    "\n",
    "\n"
   ]
  },
  {
   "cell_type": "code",
   "execution_count": null,
   "metadata": {},
   "outputs": [],
   "source": []
  }
 ],
 "metadata": {
  "kernelspec": {
   "display_name": "Python 3",
   "language": "python",
   "name": "python3"
  },
  "language_info": {
   "codemirror_mode": {
    "name": "ipython",
    "version": 3
   },
   "file_extension": ".py",
   "mimetype": "text/x-python",
   "name": "python",
   "nbconvert_exporter": "python",
   "pygments_lexer": "ipython3",
   "version": "3.9.4"
  },
  "orig_nbformat": 4
 },
 "nbformat": 4,
 "nbformat_minor": 2
}
