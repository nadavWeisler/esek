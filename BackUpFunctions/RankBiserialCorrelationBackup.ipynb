{
 "cells": [
  {
   "cell_type": "code",
   "execution_count": 32,
   "metadata": {},
   "outputs": [
    {
     "name": "stdout",
     "output_type": "stream",
     "text": [
      "(0.33333333333333337, 0.2933549664145555, 0.372147893214569)\n"
     ]
    }
   ],
   "source": [
    "import numpy as np\n",
    "from scipy.stats import norm \n",
    "import math \n",
    "\n",
    "# Define the lists\n",
    "Nominal_Variable = ['A', 'B', 'B', 'B', 'A', 'B']\n",
    "Ordinal_Variable = [3,    1,   2,   3,   2,   1]\n",
    "\n",
    "def Rank_Biserial_Correlation(nominal_variable, ordinal_variable, confidence_level):\n",
    "    unique_values = set(nominal_variable)\n",
    "    if len(unique_values) != 2:\n",
    "        return \"There are more than two values, and therefore rank biserial correlation could not be calculated.\"\n",
    "    else:\n",
    "        value_map = {value: idx for idx, value in enumerate(unique_values)}\n",
    "        binary_nominal = [value_map[item] for item in nominal_variable]\n",
    "        count_A_greater_than_B = sum(1 for a, b in zip(binary_nominal, ordinal_variable) if a == 0 for a2, b2 in zip(binary_nominal, ordinal_variable) if a2 == 1 and b < b2)\n",
    "        count_B_greater_than_A = sum(1 for a, b in zip(binary_nominal, ordinal_variable) if a == 0 for a2, b2 in zip(binary_nominal, ordinal_variable) if a2 == 1 and b > b2)\n",
    "        Sample_Size = len(nominal_variable)\n",
    "        Sample_Size_1 = binary_nominal.count(0)\n",
    "        Sample_Size_2 = binary_nominal.count(1)\n",
    "        \n",
    "        # Rank Biserial Correlation and its confidence Intervals\n",
    "        Rank_Biserial_Corrlation = (count_A_greater_than_B / Sample_Size - count_B_greater_than_A / Sample_Size) / 2\n",
    "\n",
    "        Standrd_Error_RBC = np.sqrt((Sample_Size_1+Sample_Size_2+1)/(3*Sample_Size_1+Sample_Size_2)) #see totser package formulae for paired data as well\n",
    "        Z_Critical_Value = norm.ppf((1-confidence_level) + ((confidence_level) / 2))\n",
    "\n",
    "        LowerCi_Rank_Biserial_Correlation = max(math.tanh(math.atanh(Rank_Biserial_Corrlation) - Z_Critical_Value * Standrd_Error_RBC),-1)\n",
    "        UpperCi_Rank_Biserial_Correlation = min(math.tanh(math.atanh(Rank_Biserial_Corrlation) + Z_Critical_Value * Standrd_Error_RBC),1)\n",
    " \n",
    "\n",
    "        return Rank_Biserial_Corrlation, LowerCi_Rank_Biserial_Correlation, UpperCi_Rank_Biserial_Correlation\n",
    "\n",
    "result = Rank_Biserial_Correlation(Nominal_Variable, Ordinal_Variable, 0.95)\n",
    "\n",
    "print(result)\n"
   ]
  },
  {
   "cell_type": "code",
   "execution_count": null,
   "metadata": {},
   "outputs": [],
   "source": []
  }
 ],
 "metadata": {
  "kernelspec": {
   "display_name": "Python 3",
   "language": "python",
   "name": "python3"
  },
  "language_info": {
   "codemirror_mode": {
    "name": "ipython",
    "version": 3
   },
   "file_extension": ".py",
   "mimetype": "text/x-python",
   "name": "python",
   "nbconvert_exporter": "python",
   "pygments_lexer": "ipython3",
   "version": "3.9.4"
  }
 },
 "nbformat": 4,
 "nbformat_minor": 2
}
