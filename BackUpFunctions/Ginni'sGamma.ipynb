{
 "cells": [
  {
   "cell_type": "code",
   "execution_count": null,
   "metadata": {},
   "outputs": [],
   "source": [
    "import numpy as np\n",
    "from scipy.stats import rankdata, t\n",
    "\n",
    "def ginis_gamma(x, y, confidence_level=0.95):\n",
    "    ranked_x = rankdata(x)\n",
    "    ranked_y = rankdata(y)\n",
    "    sample_size = len(x)\n",
    "\n",
    "    term1 = np.sum(np.abs((sample_size+1 - ranked_x) - ranked_y) - np.abs(ranked_x - ranked_y))\n",
    "    zcrit = t.ppf(1 - (1 - confidence_level) / 2, 100000)\n",
    "\n",
    "    if sample_size % 2 == 0:\n",
    "        index1 = 1 / (sample_size**2 / 2)\n",
    "        gamma = term1 * index1\n",
    "        ASE = np.sqrt((2 * (sample_size**2 + 2)) / (3 * (sample_size - 1) * (sample_size**2)))\n",
    "        Z = gamma / ASE\n",
    "        p_value = 2 * (1 - t.cdf(np.abs(Z), df=100000))  # Two-tailed test\n",
    "        result_ASE = ASE\n",
    "        lower_ci = gamma - ASE*zcrit\n",
    "        upper_ci = gamma + ASE*zcrit\n",
    "    else:\n",
    "        index2 = 1 / ((sample_size**2 - 1) / 2)\n",
    "        gamma = term1 * index2\n",
    "        ASE = np.sqrt((2 * (sample_size**2 + 3)) / (3 * (sample_size - 1) * (sample_size**2 - 1)))\n",
    "        Z = gamma / ASE\n",
    "        p_value = 2 * (1 - t.cdf(np.abs(Z), df=100000))  \n",
    "        result_ASE = ASE\n",
    "        lower_ci = gamma - ASE*zcrit\n",
    "        upper_ci = gamma + ASE*zcrit\n",
    "\n",
    "    return {\n",
    "        'Ginis Gamma': gamma,\n",
    "        'Standard Error': result_ASE,\n",
    "        'lower_ci': max(lower_ci, -1),  \n",
    "        'upper_ci': min(upper_ci, 1),   \n",
    "        'p_value': p_value\n",
    "    }\n",
    "\n",
    "# Example usage:\n",
    "x = [1, 2, 3, 3, 5,8,7,6,5]\n",
    "y = [5, 4, 3, 2, 1,9,4,3,1]\n",
    "confidence_level = 0.95\n",
    "\n",
    "result = ginis_gamma(x, y, confidence_level)\n",
    "print(result)"
   ]
  }
 ],
 "metadata": {
  "language_info": {
   "name": "python"
  }
 },
 "nbformat": 4,
 "nbformat_minor": 2
}
