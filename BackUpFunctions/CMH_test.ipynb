{
 "cells": [
  {
   "cell_type": "code",
   "execution_count": 5,
   "metadata": {},
   "outputs": [
    {
     "name": "stdout",
     "output_type": "stream",
     "text": [
      "Confidence interval for the pooled log odds ratio: (1.0262871370162445, 1.8458929745664383)\n",
      "Confidence interval for the pooled odds ratio: (2.7906851440125804, 6.333753146344651)\n"
     ]
    },
    {
     "data": {
      "text/html": [
       "<table class=\"simpletable\">\n",
       "<tr>\n",
       "          <td></td>          <th>Estimate</th>    <th>LCB</th>    <th>UCB</th> \n",
       "</tr>\n",
       "<tr>\n",
       "  <th>Pooled odds</th>           <td>4.204</td>   <td>2.791</td> <td>6.334</td>\n",
       "</tr>\n",
       "<tr>\n",
       "  <th>Pooled log odds</th>       <td>1.436</td>   <td>1.026</td> <td>1.846</td>\n",
       "</tr>\n",
       "<tr>\n",
       "  <th>Pooled risk ratio</th>     <td>2.104</td>        <td></td>      <td></td>\n",
       "</tr>\n",
       "<tr>\n",
       "  <th></th>                           <td></td>        <td></td>      <td></td>\n",
       "</tr>\n",
       "<tr>\n",
       "          <td></td>         <th>Statistic</th> <th>P-value</th> <th></th>\n",
       "</tr>\n",
       "<tr>\n",
       "  <th>Test of OR=1</th>        <td>50.838</td>   <td>0.000</td> <td></td>\n",
       "</tr>\n",
       "<tr>\n",
       "  <th>Test constant OR</th>    <td>13.379</td>   <td>0.001</td> <td></td>\n",
       "</tr>\n",
       "<tr>\n",
       "          <td></td>          <th></th>   <th></th> <th></th>\n",
       "</tr>\n",
       "<tr>\n",
       "  <th>Number of tables</th>   <td>3</td> <td></td> <td></td>\n",
       "</tr>\n",
       "<tr>\n",
       "  <th>Min n</th>            <td>135</td> <td></td> <td></td>\n",
       "</tr>\n",
       "<tr>\n",
       "  <th>Max n</th>            <td>140</td> <td></td> <td></td>\n",
       "</tr>\n",
       "<tr>\n",
       "  <th>Avg n</th>            <td>138</td> <td></td> <td></td>\n",
       "</tr>\n",
       "<tr>\n",
       "  <th>Total n</th>          <td>415</td> <td></td> <td></td>\n",
       "</tr>\n",
       "</table>"
      ],
      "text/plain": [
       "<class 'statsmodels.iolib.table.SimpleTable'>"
      ]
     },
     "execution_count": 5,
     "metadata": {},
     "output_type": "execute_result"
    }
   ],
   "source": [
    "# Import necessary libraries\n",
    "import numpy as np\n",
    "from statsmodels.stats.contingency_tables import StratifiedTable\n",
    "\n",
    "# Create contingency tables\n",
    "table1 = np.array([[50, 30],\n",
    "                   [20, 40]])\n",
    "\n",
    "table2 = np.array([[60, 20],\n",
    "                   [10, 50]])\n",
    "\n",
    "table3 = np.array([[45, 25],\n",
    "                   [30, 35]])\n",
    "\n",
    "# Create a list of contingency tables\n",
    "tables = [table1, table2, table3]\n",
    "\n",
    "# Create an instance of the StratifiedTable class\n",
    "stratified_data = StratifiedTable(tables)\n",
    "\n",
    "# Assuming you have created a StratifiedTable object named 'stratified_data'\n",
    "\n",
    "# Confidence interval for the pooled log odds ratio\n",
    "logodds_ci = stratified_data.logodds_pooled_confint(alpha=0.05, method='normal')\n",
    "print(\"Confidence interval for the pooled log odds ratio:\", logodds_ci)\n",
    "\n",
    "# Confidence interval for the pooled odds ratio\n",
    "oddsratio_ci = stratified_data.oddsratio_pooled_confint(alpha=0.05, method='normal')\n",
    "print(\"Confidence interval for the pooled odds ratio:\", oddsratio_ci)\n",
    "\n",
    "stratified_data.oddsratio_pooled\n",
    "stratified_data.riskratio_pooled\n",
    "stratified_data.logodds_pooled_se\n",
    "stratified_data.logodds_pooled\n",
    "\n",
    "stratified_data.summary(alpha=0.05, method='normal')\n",
    "\n",
    "\n",
    "\n",
    "\n",
    "\n"
   ]
  },
  {
   "cell_type": "code",
   "execution_count": null,
   "metadata": {},
   "outputs": [],
   "source": []
  }
 ],
 "metadata": {
  "kernelspec": {
   "display_name": "Python 3",
   "language": "python",
   "name": "python3"
  },
  "language_info": {
   "codemirror_mode": {
    "name": "ipython",
    "version": 3
   },
   "file_extension": ".py",
   "mimetype": "text/x-python",
   "name": "python",
   "nbconvert_exporter": "python",
   "pygments_lexer": "ipython3",
   "version": "3.9.4"
  }
 },
 "nbformat": 4,
 "nbformat_minor": 2
}
