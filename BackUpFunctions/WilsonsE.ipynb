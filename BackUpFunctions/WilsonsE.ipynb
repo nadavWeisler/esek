{
 "cells": [
  {
   "cell_type": "code",
   "execution_count": 32,
   "metadata": {},
   "outputs": [
    {
     "name": "stdout",
     "output_type": "stream",
     "text": [
      "15.0\n"
     ]
    }
   ],
   "source": [
    "import numpy as np\n",
    "import scipy.stats\n",
    "\n",
    "# This is a function that converts Z_scores into pvalues\n",
    "def calculate_p_value_from_z_score(score):\n",
    "    p_value = scipy.stats.t.sf((abs(score)), 100000) * 2\n",
    "    return min(float(p_value), 0.99999)\n",
    "\n",
    "# Wish list - Partial COrrelation with Quade Standart Error = \n",
    "\n",
    "# Contingency table\n",
    "contingency_table = np.array([\n",
    "    [70, 85, 15],\n",
    "    [10, 134, 41],\n",
    "    [27, 60, 100]\n",
    "])\n",
    "\n",
    "contingency_table = np.array([\n",
    "    [1,9,3,4,5],\n",
    "    [5,6,7,8,9],\n",
    "    [1,5,9,2,9],\n",
    "    [8,7,9,3,6],\n",
    "    [0,5,4,6,3],\n",
    "    [8,7,9,7,8],\n",
    "    [0,9,2,1,2],\n",
    "    [2,4,1,8,5],\n",
    "    [1,5,9,3,9],\n",
    "    [9,2,4,5,9]\n",
    "])\n",
    "\n",
    "contingency_table = np.array([\n",
    "    [0, 0, 0, 0, 0, 1, 0, 0, 0, 1],\n",
    "    [0, 0, 0, 0, 0, 2, 0, 0, 0, 1],\n",
    "    [0, 0, 0, 0, 1, 0, 0, 0, 0, 0],\n",
    "    [0, 0, 0, 0, 0, 0, 0, 0, 0, 0],\n",
    "    [0, 0, 0, 0, 0, 0, 0, 0, 0, 0],\n",
    "    [0, 0, 0, 0, 0, 0, 1, 0, 0, 0],\n",
    "    [0, 0, 0, 0, 0, 0, 0, 0, 0, 0],\n",
    "    [0, 0, 0, 0, 0, 0, 0, 0, 0, 0],\n",
    "    [0, 0, 0, 0, 0, 0, 0, 2, 0, 0],\n",
    "    [0, 0, 1, 0, 0, 0, 0, 0, 0, 0]\n",
    "])\n",
    "\n",
    "def Wilson_e (Standard_Error, confidence_level):\n",
    "    Sample_Size = np.sum(contingency_table)\n",
    "    row_sums = np.sum(contingency_table, axis=1)\n",
    "    column_sums = np.sum(contingency_table, axis=0)\n",
    "    Sum_Of_Squared_Values = np.sum(contingency_table**2)\n",
    "\n",
    "    # Calculating Concordant and Disconcordant Pairs\n",
    "    number_of_rows, number_of_columns = contingency_table.shape\n",
    "    concordant_table = np.zeros((number_of_rows, number_of_columns))\n",
    "    disconcordant_table = np.zeros((number_of_rows, number_of_columns))\n",
    "    for i in range(number_of_rows):\n",
    "        for j in range(number_of_columns):\n",
    "            concordant_table[i, j] = np.sum(contingency_table[:i, :j]) + np.sum(contingency_table[i+1:, j+1:])\n",
    "            disconcordant_table[i, j] = np.sum(contingency_table[:i, j+1:]) + np.sum(contingency_table[i+1:, :j])\n",
    "    Concordant_pairs, Disconcordant_pairs = np.sum(concordant_table * contingency_table) / 2, np.sum(disconcordant_table * contingency_table) / 2\n",
    "\n",
    "    Wilson_e = (2 * (Concordant_pairs - Disconcordant_pairs)) / (Sample_Size**2  - Sum_Of_Squared_Values)\n",
    "    Standard_Error_Numerator = 4 * np.sum(contingency_table*(concordant_table - disconcordant_table)**2) - 4/Sample_Size *(Concordant_pairs-Disconcordant_pairs)**2\n",
    "    Standard_Error_Denominator =  (Sample_Size**2  - Sum_Of_Squared_Values)**2\n",
    "    Standard_Error = np.sqrt(Standard_Error_Numerator/Standard_Error_Denominator)\n",
    "    Statistic = Wilson_e/Standard_Error\n",
    "    p_value_wilson = calculate_p_value_from_z_score(Statistic)\n",
    "\n",
    "\n",
    "    results = {}\n",
    "\n",
    "    results[\"Wilson's e\"]= Wilson_e\n",
    "    results[\"Standard Error Wilson\"] = Standard_Error\n",
    "    results[\"Wilson's e statistic\"] = Statistic\n",
    "    results[\"p-value\"]= p_value_wilson\n",
    "\n",
    "\n",
    "\n"
   ]
  },
  {
   "cell_type": "code",
   "execution_count": null,
   "metadata": {},
   "outputs": [],
   "source": []
  }
 ],
 "metadata": {
  "kernelspec": {
   "display_name": "Python 3",
   "language": "python",
   "name": "python3"
  },
  "language_info": {
   "codemirror_mode": {
    "name": "ipython",
    "version": 3
   },
   "file_extension": ".py",
   "mimetype": "text/x-python",
   "name": "python",
   "nbconvert_exporter": "python",
   "pygments_lexer": "ipython3",
   "version": "3.9.4"
  },
  "orig_nbformat": 4
 },
 "nbformat": 4,
 "nbformat_minor": 2
}
