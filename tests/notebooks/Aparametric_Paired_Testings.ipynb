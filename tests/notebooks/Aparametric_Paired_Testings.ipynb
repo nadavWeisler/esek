{
 "cells": [
  {
   "cell_type": "code",
   "execution_count": 1,
   "metadata": {},
   "outputs": [],
   "source": [
    "import AparametricPaired\n",
    "import numpy as np"
   ]
  },
  {
   "cell_type": "markdown",
   "metadata": {},
   "source": [
    "# From Data"
   ]
  },
  {
   "cell_type": "code",
   "execution_count": 2,
   "metadata": {},
   "outputs": [
    {
     "name": "stdout",
     "output_type": "stream",
     "text": [
      "Results of Paired Samples Aparametric:\n",
      "Sample Median 1: 30.0\n",
      "Sample Median 2: 30.0\n",
      "Sample Mean 1: 32.76\n",
      "Sample Mean 2: 32.76\n",
      "Sample Standard Deviation 1: 16.483\n",
      "Sample Standard Deviation 2: 16.5108\n",
      "Sample Size: 25\n",
      "Pearson Correlation: -0.0901\n",
      "Pearson Correlation p-value: 0.6685\n",
      "Wilcoxon Positive Count: 11.0\n",
      "Wilcoxon Negative Count: 12.0\n",
      "Wilcoxon Total Count: 23.0\n",
      "Wilcoxon Positive Sum Ranks: 141.0\n",
      "Wilcoxon Negative Sum Ranks: 135.0\n",
      "Wilcoxon Total Sum Ranks: 276.0\n",
      "Wilcoxon Mean Positive Ranks: 12.818181818181818\n",
      "Wilcoxon Mean Negative Ranks: 11.25\n",
      "Wilcoxon MeanW: 138.0\n",
      "Wilcoxon Adjusted Std: 32.85954960129551\n",
      "Wilcoxon Unadjusted Std: 32.87856444554719\n",
      "Matched Pairs Rank Biserial Correlation (Kerby, 2014): 0.012307692307692308\n",
      "Wilcoxon Z Adjusted: 0.0912976603879477\n",
      "Wilcoxon Z Unadjusted: 0.09124485970087103\n",
      "Wilcoxon Z Adjusted Corrected: 0.07608138365662309\n",
      "Wilcoxon Z Unadjusted Corrected: 0.07603738308405919\n",
      "Wilcoxon p-value Adjusted: 0.927256076966454\n",
      "Wilcoxon p-value Unadjusted: 0.9272980307084063\n",
      "Wilcoxon p-value Adjusted Corrected: 0.9393543508977341\n",
      "Wilcoxon p-value Unadjusted Corrected: 0.9393893568733579\n",
      "Wilcoxon RBC Adjusted: 0.01825953207758954\n",
      "Wilcoxon RBC Unadjusted: 0.018248971940174205\n",
      "Wilcoxon RBC Unadjusted Corrected: 0.015216276731324618\n",
      "Wilcoxon RBC Adjusted Corrected: 0.015207476616811839\n",
      "Lower CI RBC Matched Pairs Wilcoxon: -0.2324748374610217\n",
      "Upper CI RBC Matched Pairs Wilcoxon: 0.2731727436469519\n",
      "Lower CI RBC Adjusted Wilcoxon: -0.2357650270223169\n",
      "Upper CI RBC Adjusted Wilcoxon: 0.2699484599177411\n",
      "Lower CI RBC Unadjusted Wilcoxon: -0.2357750034724226\n",
      "Upper CI RBC Unadjusted Wilcoxon: 0.26993866602904903\n",
      "Lower CI RBC Adjusted Corrected Wilcoxon: -0.23863785952592906\n",
      "Upper CI RBC Adjusted Corrected Wilcoxon: 0.2671238679402394\n",
      "Lower CI RBC Unadjusted Corrected Wilcoxon: -0.2386461603946728\n",
      "Upper CI RBC Unadjusted Corrected Wilcoxon: 0.26711569384860356\n",
      "Pratt Positive Count: 11.0\n",
      "Pratt Negative Count: 12.0\n",
      "Pratt Total Count: 25.0\n",
      "Pratt Positive Sum Ranks: 163.0\n",
      "Pratt Negative Sum Ranks: 159.0\n",
      "Pratt Total Sum Ranks: 325.0\n",
      "Pratt Mean Positive Ranks: 14.818181818181818\n",
      "Pratt Mean Negative Ranks: 13.25\n",
      "Pratt MeanW: 161.0\n",
      "Pratt Adjusted Std: 37.13152299596665\n",
      "Pratt Unadjusted Std: 37.16517186829626\n",
      "Pratt Z Adjusted: 0.053862590021347814\n",
      "Pratt Z Unadjusted: 0.053813823519705\n",
      "Pratt Z Adjusted Corrected: 0.04039694251601086\n",
      "Pratt Z Unadjusted Corrected: 0.04036036763977875\n",
      "Pratt p-value Adjusted: 0.957044642214804\n",
      "Pratt p-value Unadjusted: 0.9570834959029937\n",
      "Pratt p-value Adjusted Corrected: 0.9677766677800435\n",
      "Pratt p-value Unadjusted Corrected: 0.9678058265286753\n",
      "Pratt RBC Adjusted: 0.010772518004269562\n",
      "Pratt RBC Unadjusted: 0.010762764703941\n",
      "Pratt RBC Unadjusted Corrected: 0.008072073527955751\n",
      "Pratt RBC Adjusted Corrected: 0.00807938850320217\n",
      "Lower CI RBC Matched Pairs Pratt: -0.24137941632350995\n",
      "Upper CI RBC Matched Pairs Pratt: 0.26442021908774366\n",
      "Lower CI RBC Adjusted Pratt: -0.24282480123163158\n",
      "Upper CI RBC Adjusted Pratt: 0.2629916118536997\n",
      "Lower CI RBC Unadjusted Pratt: -0.2428339804820118\n",
      "Upper CI RBC Unadjusted Pratt: 0.262982532060349\n",
      "Lower CI RBC Adjusted Corrected Pratt: -0.24536457244599935\n",
      "Upper CI RBC Adjusted Corrected Pratt: 0.26047593713462924\n",
      "Lower CI RBC Unadjusted Corrected Pratt: -0.2453576973991528\n",
      "Upper CI RBC Unadjusted Corrected Pratt: 0.2604827562372598\n",
      "Statistical Line:  \u001b[3mz\u001b[0m = 0.040, \u001b[3mp = \u001b[0m.968, \u001b[3mr\u001b[0mₘₚ = .008079389, 95.0% CI(fisher) [-0.241,.2644]\n"
     ]
    }
   ],
   "source": [
    "params = {\n",
    "    \"Column 1\": np.array([21, 11, 51, 49, 52, 47, 12, 53, 17, 50, 14, 33, 11, 50, 49, 52, 47, 22, 25, 30, 19, 51, 16, 18, 19]),\n",
    "    \"Column 2\": np.array([10, 11, 12, 14, 16, 17, 18, 19, 19, 22, 22, 25, 30, 33, 47, 47, 49, 49, 50, 50, 51, 51, 52, 52, 53]),\n",
    "    \"Confidence Level\": 0.95\n",
    "}\n",
    "\n",
    "# Call the function\n",
    "results = AparametricPaired.Aparametric_Paired_Samples.Apermetric_Effect_Size_Dependent(params)\n",
    "\n",
    "# Print the results\n",
    "print(\"Results of Paired Samples Aparametric:\")\n",
    "for key, value in results.items():\n",
    "    print(f\"{key}: {value}\")"
   ]
  },
  {
   "cell_type": "code",
   "execution_count": null,
   "metadata": {},
   "outputs": [],
   "source": []
  }
 ],
 "metadata": {
  "kernelspec": {
   "display_name": "Python 3",
   "language": "python",
   "name": "python3"
  },
  "language_info": {
   "codemirror_mode": {
    "name": "ipython",
    "version": 3
   },
   "file_extension": ".py",
   "mimetype": "text/x-python",
   "name": "python",
   "nbconvert_exporter": "python",
   "pygments_lexer": "ipython3",
   "version": "3.12.0"
  }
 },
 "nbformat": 4,
 "nbformat_minor": 2
}
