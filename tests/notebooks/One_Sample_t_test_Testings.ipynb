{
 "cells": [
  {
   "cell_type": "code",
   "execution_count": 1,
   "metadata": {},
   "outputs": [],
   "source": [
    "import OneSampleT"
   ]
  },
  {
   "cell_type": "markdown",
   "metadata": {},
   "source": [
    "# From t-score"
   ]
  },
  {
   "cell_type": "code",
   "execution_count": 2,
   "metadata": {},
   "outputs": [
    {
     "name": "stdout",
     "output_type": "stream",
     "text": [
      "Results of One Sample t-test from t score:\n",
      "Cohen's d: 0.2281\n",
      "Hedges' g: 0.2209\n",
      "t score: 1.1175\n",
      "Degrees of Freedom: 24\n",
      "p-value: 0.2748\n",
      "Standard Error of Cohen's d (True): 0.2119\n",
      "Standard Error of Cohen's d (Morris): 0.2116\n",
      "Standard Error of Cohen's d (Hedges): 0.2027\n",
      "Standard Error of Cohen's d (Hedges_Olkin): 0.2026\n",
      "Standard Error of Cohen's d (MLE): 0.4686\n",
      "Standard Error of Cohen's d (Large N): 0.2006\n",
      "Standard Error of Cohen's d (Small N): 0.467\n",
      "Standard Error of Hedges' g (True): 0.2117\n",
      "Standard Error of Hedges' g (Morris): 0.2114\n",
      "Standard Error of Hedges' g (Hedges): 0.2025\n",
      "Standard Error of Hedges' g (Hedges_Olkin): 0.2024\n",
      "Standard Error of Hedges' g (MLE): 0.4684\n",
      "Standard Error of Hedges' g (Large N): 0.2006\n",
      "Standard Error of Hedges' g (Small N): 0.467\n",
      "Lower Central CI's Cohen's d: -0.1967\n",
      "Upper Central CI's Cohen's d: 0.6529\n",
      "Lower Central CI's Hedges' g: -0.2036\n",
      "Upper Central CI's Hedges' g: 0.6453\n",
      "Lower Pivotal CI's Cohen's d: -0.1848\n",
      "Upper Pivotal CI's Cohen's d: 0.6273\n",
      "Lower Pivotal CI's Hedges' g: -0.1789\n",
      "Upper Pivotal CI's Hedges' g: 0.6074\n",
      "Lower NCP CI's Cohen's d: -0.1779\n",
      "Upper NCP CI's Cohen's d: 0.6799\n",
      "Lower NCP CI's Hedges' g: -0.1855\n",
      "Upper NCP CI's Hedges' g: 0.6716\n",
      "Correction Factor: 0.9684\n",
      "Statistical Line Cohen's d:  \u001b[3mt\u001b[0m(24) = 1.117, \u001b[3mp = \u001b[0m.275, Cohen's d = 0.228, 95.5% CI(Pivotal) [-0.185,0.627]\n",
      "Statistical Line Hedges' g:  \u001b[3mt\u001b[0m(24) = 1.117, \u001b[3mp = \u001b[0m.275, Hedges' g = 0.221, 95.5% CI(Pivotal) [-0.179,0.607]\n"
     ]
    }
   ],
   "source": [
    "params = {\n",
    "    \"t score\": 1.1175,\n",
    "    \"Sample Size\": 25,\n",
    "    \"Confidence Level\": 95.5\n",
    "}\n",
    "\n",
    "# Call the function\n",
    "results = OneSampleT.OneSampleT.one_sample_from_t_score(params)\n",
    "\n",
    "# Print the results\n",
    "print(\"Results of One Sample t-test from t score:\")\n",
    "for key, value in results.items():\n",
    "    print(f\"{key}: {value}\")"
   ]
  },
  {
   "cell_type": "markdown",
   "metadata": {},
   "source": [
    "# From parameters"
   ]
  },
  {
   "cell_type": "code",
   "execution_count": 3,
   "metadata": {},
   "outputs": [
    {
     "name": "stdout",
     "output_type": "stream",
     "text": [
      "Results of One Sample t-test from Parameters:\n",
      "Cohen's d: 0.2281\n",
      "Hedges' g: 0.228\n",
      "t score: 11.4034\n",
      "Degrees of Freedom: 2499\n",
      "p-value: 0.0\n",
      "Standardizer Cohen's d (Sample's Standard Deviation): 16.483\n",
      "Standardizer Hedge's g: 16.4879\n",
      "Standard Error of the Mean: 0.3297\n",
      "Standard Error of Cohen's d (True): 0.0203\n",
      "Standard Error of Cohen's d (Morris): 0.0203\n",
      "Standard Error of Cohen's d (Hedges): 0.0203\n",
      "Standard Error of Cohen's d (Hedges_Olkin): 0.0203\n",
      "Standard Error of Cohen's d (MLE): 0.1424\n",
      "Standard Error of Cohen's d (Large N): 0.0201\n",
      "Standard Error of Cohen's d (Small N): 0.1417\n",
      "Standard Error of Hedges' g (True): 0.0203\n",
      "Standard Error of Hedges' g (Morris): 0.0203\n",
      "Standard Error of Hedges' g (Hedges): 0.0203\n",
      "Standard Error of Hedges' g (Hedges_Olkin): 0.0203\n",
      "Standard Error of Hedges' g (MLE): 0.1424\n",
      "Standard Error of Hedges' g (Large N): 0.0201\n",
      "Standard Error of Hedges' g (Small N): 0.1417\n",
      "Sample's Mean: 32.76\n",
      "Population's Mean: 29\n",
      "Means Difference: 3.76\n",
      "Sample Size: 2500\n",
      "Sample's Standard Deviation: 16.483\n",
      "Lower Central CI's Cohen's d: 0.1875\n",
      "Upper Central CI's Cohen's d: 0.2687\n",
      "Lower NCP CI's Cohen's d: 0.1877\n",
      "Upper NCP CI's Cohen's d: 0.269\n",
      "Lower Pivotal CI's Cohen's d: 0.1874\n",
      "Upper Pivotal CI's Cohen's d: 0.2687\n",
      "Lower Pivotal CI's Hedges' g: 0.1874\n",
      "Upper Pivotal CI's Hedges' g: 0.2686\n",
      "Lower Central CI's Hedges' g: 0.1874\n",
      "Upper Central CI's Hedges' g: 0.2687\n",
      "Lower NCP CI's Hedges' g: 0.1876\n",
      "Upper NCP CI's Hedges' g: 0.2689\n",
      "Correction Factor: 0.9997\n",
      "Statistical Line Cohen's d:  \u001b[3mt\u001b[0m(2499) = 11.403, \u001b[3mp\u001b[0m < .001, Cohen's d = 0.228, 95.5% CI(Pivotal) [0.187,0.269]\n",
      "Statistical Line Hedges' g:  \u001b[3mt\u001b[0m(2499) = 11.403, \u001b[3mp\u001b[0m < .001, Hedges' g = 0.228, 95.5% CI(Pivotal) [0.187,0.269]\n"
     ]
    }
   ],
   "source": [
    "params = {\n",
    "    \"Population Mean\": 29,\n",
    "    \"Mean Sample\": 32.76,\n",
    "    \"Standard Deviation Sample\": 16.483,\n",
    "    \"Sample Size\": 2500,\n",
    "    \"Confidence Level\": 95.5\n",
    "}\n",
    "\n",
    "# Call the function\n",
    "results = OneSampleT.OneSampleT.one_sample_from_params(params)\n",
    "\n",
    "# Print the results\n",
    "print(\"Results of One Sample t-test from Parameters:\")\n",
    "for key, value in results.items():\n",
    "    print(f\"{key}: {value}\")"
   ]
  },
  {
   "cell_type": "markdown",
   "metadata": {},
   "source": [
    "# From Data"
   ]
  },
  {
   "cell_type": "code",
   "execution_count": 4,
   "metadata": {},
   "outputs": [
    {
     "ename": "AttributeError",
     "evalue": "type object 'One_Sample_ttest' has no attribute 'one_sample_from_data'",
     "output_type": "error",
     "traceback": [
      "\u001b[1;31m---------------------------------------------------------------------------\u001b[0m",
      "\u001b[1;31mAttributeError\u001b[0m                            Traceback (most recent call last)",
      "Cell \u001b[1;32mIn[4], line 8\u001b[0m\n\u001b[0;32m      1\u001b[0m params \u001b[38;5;241m=\u001b[39m {\n\u001b[0;32m      2\u001b[0m     \u001b[38;5;124m\"\u001b[39m\u001b[38;5;124mcolumn 1\u001b[39m\u001b[38;5;124m\"\u001b[39m: [\u001b[38;5;241m21\u001b[39m, \u001b[38;5;241m11\u001b[39m, \u001b[38;5;241m51\u001b[39m, \u001b[38;5;241m49\u001b[39m, \u001b[38;5;241m52\u001b[39m, \u001b[38;5;241m47\u001b[39m, \u001b[38;5;241m12\u001b[39m, \u001b[38;5;241m53\u001b[39m, \u001b[38;5;241m17\u001b[39m, \u001b[38;5;241m50\u001b[39m, \u001b[38;5;241m14\u001b[39m, \u001b[38;5;241m33\u001b[39m, \u001b[38;5;241m11\u001b[39m, \u001b[38;5;241m50\u001b[39m, \u001b[38;5;241m49\u001b[39m, \u001b[38;5;241m52\u001b[39m, \u001b[38;5;241m47\u001b[39m, \u001b[38;5;241m22\u001b[39m, \u001b[38;5;241m25\u001b[39m, \u001b[38;5;241m30\u001b[39m, \u001b[38;5;241m19\u001b[39m, \u001b[38;5;241m51\u001b[39m, \u001b[38;5;241m16\u001b[39m, \u001b[38;5;241m18\u001b[39m, \u001b[38;5;241m19\u001b[39m],\n\u001b[0;32m      3\u001b[0m     \u001b[38;5;124m\"\u001b[39m\u001b[38;5;124mPopulation\u001b[39m\u001b[38;5;124m'\u001b[39m\u001b[38;5;124ms Mean\u001b[39m\u001b[38;5;124m\"\u001b[39m: \u001b[38;5;241m29\u001b[39m,\n\u001b[0;32m      4\u001b[0m     \u001b[38;5;124m\"\u001b[39m\u001b[38;5;124mConfidence Level\u001b[39m\u001b[38;5;124m\"\u001b[39m: \u001b[38;5;241m95\u001b[39m\n\u001b[0;32m      5\u001b[0m }\n\u001b[0;32m      7\u001b[0m \u001b[38;5;66;03m# Call the function\u001b[39;00m\n\u001b[1;32m----> 8\u001b[0m results \u001b[38;5;241m=\u001b[39m \u001b[43mOneSampleT\u001b[49m\u001b[38;5;241;43m.\u001b[39;49m\u001b[43mOne_Sample_ttest\u001b[49m\u001b[38;5;241;43m.\u001b[39;49m\u001b[43mone_sample_from_data\u001b[49m(params)\n\u001b[0;32m     10\u001b[0m \u001b[38;5;66;03m# Print the results\u001b[39;00m\n\u001b[0;32m     11\u001b[0m \u001b[38;5;28mprint\u001b[39m(\u001b[38;5;124m\"\u001b[39m\u001b[38;5;124mResults of One Sample t-test from Data:\u001b[39m\u001b[38;5;124m\"\u001b[39m)\n",
      "\u001b[1;31mAttributeError\u001b[0m: type object 'One_Sample_ttest' has no attribute 'one_sample_from_data'"
     ]
    }
   ],
   "source": [
    "params = {\n",
    "    \"column 1\": [21, 11, 51, 49, 52, 47, 12, 53, 17, 50, 14, 33, 11, 50, 49, 52, 47, 22, 25, 30, 19, 51, 16, 18, 19],\n",
    "    \"Population's Mean\": 29,\n",
    "    \"Confidence Level\": 95\n",
    "}\n",
    "\n",
    "# Call the function\n",
    "results = OneSampleT.OneSampleT(params)\n",
    "\n",
    "# Print the results\n",
    "print(\"Results of One Sample t-test from Data:\")\n",
    "for key, value in results.items():\n",
    "    print(f\"{key}: {value}\")"
   ]
  },
  {
   "cell_type": "code",
   "execution_count": null,
   "metadata": {},
   "outputs": [],
   "source": []
  }
 ],
 "metadata": {
  "kernelspec": {
   "display_name": ".venv",
   "language": "python",
   "name": "python3"
  },
  "language_info": {
   "codemirror_mode": {
    "name": "ipython",
    "version": 3
   },
   "file_extension": ".py",
   "mimetype": "text/x-python",
   "name": "python",
   "nbconvert_exporter": "python",
   "pygments_lexer": "ipython3",
   "version": "3.12.0"
  }
 },
 "nbformat": 4,
 "nbformat_minor": 2
}
