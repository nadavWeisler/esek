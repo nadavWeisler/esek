{
 "cells": [
  {
   "cell_type": "code",
   "execution_count": 1,
   "metadata": {},
   "outputs": [
    {
     "ename": "SyntaxError",
     "evalue": "invalid decimal literal (2992029611.py, line 1)",
     "output_type": "error",
     "traceback": [
      "\u001b[1;36m  Cell \u001b[1;32mIn[1], line 1\u001b[1;36m\u001b[0m\n\u001b[1;33m    from ESEK_Functions.Calculator.1_OneSampleMean.1A_OneSampleZ.OneSampleZ import OneSampleZ\u001b[0m\n\u001b[1;37m                                    ^\u001b[0m\n\u001b[1;31mSyntaxError\u001b[0m\u001b[1;31m:\u001b[0m invalid decimal literal\n"
     ]
    }
   ],
   "source": [
    "from ESEK_Functions.Calculator.1_OneSampleMean.1A_OneSampleZ.OneSampleZ import OneSampleZ"
   ]
  },
  {
   "cell_type": "code",
   "execution_count": 13,
   "metadata": {},
   "outputs": [
    {
     "ename": "AttributeError",
     "evalue": "module 'OneSampleZ' has no attribute 'one_sample_from_z_score'",
     "output_type": "error",
     "traceback": [
      "\u001b[1;31m---------------------------------------------------------------------------\u001b[0m",
      "\u001b[1;31mAttributeError\u001b[0m                            Traceback (most recent call last)",
      "Cell \u001b[1;32mIn[13], line 7\u001b[0m\n\u001b[0;32m      1\u001b[0m params \u001b[38;5;241m=\u001b[39m {\n\u001b[0;32m      2\u001b[0m     \u001b[38;5;124m\"\u001b[39m\u001b[38;5;124mZ-score\u001b[39m\u001b[38;5;124m\"\u001b[39m: \u001b[38;5;241m0.2667\u001b[39m,\n\u001b[0;32m      3\u001b[0m     \u001b[38;5;124m\"\u001b[39m\u001b[38;5;124mSample Size\u001b[39m\u001b[38;5;124m\"\u001b[39m: \u001b[38;5;241m25\u001b[39m,\n\u001b[0;32m      4\u001b[0m     \u001b[38;5;124m\"\u001b[39m\u001b[38;5;124mConfidence Level\u001b[39m\u001b[38;5;124m\"\u001b[39m: \u001b[38;5;241m95\u001b[39m\n\u001b[0;32m      5\u001b[0m }\n\u001b[1;32m----> 7\u001b[0m results \u001b[38;5;241m=\u001b[39m \u001b[43mOneSampleZ\u001b[49m\u001b[38;5;241;43m.\u001b[39;49m\u001b[43mone_sample_from_z_score\u001b[49m(params)\n\u001b[0;32m      9\u001b[0m \u001b[38;5;28mprint\u001b[39m(\u001b[38;5;124m\"\u001b[39m\u001b[38;5;124mResults of One Sample Z-Test from Z-score:\u001b[39m\u001b[38;5;124m\"\u001b[39m)\n\u001b[0;32m     10\u001b[0m \u001b[38;5;28;01mfor\u001b[39;00m key, value \u001b[38;5;129;01min\u001b[39;00m results\u001b[38;5;241m.\u001b[39mitems():\n",
      "\u001b[1;31mAttributeError\u001b[0m: module 'OneSampleZ' has no attribute 'one_sample_from_z_score'"
     ]
    }
   ],
   "source": [
    "params = {\n",
    "    \"Z-score\": 0.2667,\n",
    "    \"Sample Size\": 25,\n",
    "    \"Confidence Level\": 95\n",
    "}\n",
    "\n",
    "results = OneSampleZ.OneSampleZ.one_sample_from_z_score(params)\n",
    "\n",
    "print(\"Results of One Sample Z-Test from Z-score:\")\n",
    "for key, value in results.items():\n",
    "    print(f\"{key}: {value}\")"
   ]
  },
  {
   "cell_type": "code",
   "execution_count": 3,
   "metadata": {},
   "outputs": [
    {
     "name": "stdout",
     "output_type": "stream",
     "text": [
      "Results of One Sample Z-Test from Parameters:\n",
      "Cohen's d: 0.0533\n",
      "Z-score: 0.2667\n",
      "p-value: 0.7897\n",
      "Standart Error of the Mean: 3.0\n",
      "Cohen's d CI Lower: -0.3389\n",
      "Cohen's d CI Upper: 0.4456\n",
      "Standrd Error of the Effect Size: 0.2001\n",
      "Statistical Line:  \u001b[3mz\u001b[0m = .267, \u001b[3mp\u001b[0m = .790, Cohen's d = .053, 95% CI [-0.339,0.446]\n"
     ]
    }
   ],
   "source": [
    "params = {\n",
    "    \"Population Mean\": 50,\n",
    "    \"Popoulation Standard Deviation\": 15,\n",
    "    \"Sample's Mean\": 49.2,\n",
    "    \"Sample Size\": 25,\n",
    "    \"Confidence Level\": 95\n",
    "}\n",
    "\n",
    "# Call the function\n",
    "results = OneSampleZ.OneSampleZ.one_sample_from_parameters(params)\n",
    "\n",
    "# Print the results\n",
    "print(\"Results of One Sample Z-Test from Parameters:\")\n",
    "for key, value in results.items():\n",
    "    print(f\"{key}: {value}\")"
   ]
  },
  {
   "cell_type": "code",
   "execution_count": 4,
   "metadata": {},
   "outputs": [
    {
     "name": "stdout",
     "output_type": "stream",
     "text": [
      "Results of One Sample Z-Test from Data:\n",
      "Cohen's d: 0.0533\n",
      "Z-score: 0.2667\n",
      "p-value: 0.789725820928051\n",
      "Standart Error of the Mean: 3.0\n",
      "Cohen's d CI Lower: -0.3479\n",
      "Cohen's d CI Upper: 0.4545\n",
      "Standrd Error of the Effect Size: 0.2001\n",
      "Sample's Mean: 49.2\n",
      "Sample's Standard Deviation: 2.3805\n",
      "Difference Between Means: 0.8\n",
      "Sample Size: 25\n",
      "Statistical Line:  \u001b[3mz\u001b[0m = .267, \u001b[3mp\u001b[0m = .790, Cohen's d = .053, 95.5% CI [-0.348,0.455]\n"
     ]
    }
   ],
   "source": [
    "params = {\n",
    "    \"column_1\": [45, 48, 51, 49, 52, 47, 50, 53, 48, 50, 46, 51, 48, 50, 49, 52, 47, 50, 45, 53, 49, 51, 46, 52, 48],\n",
    "    \"Population Mean\": 50,\n",
    "    \"Popoulation Standard Deviation\": 15,\n",
    "    \"Confidence Level\": 95.5\n",
    "}\n",
    "\n",
    "# Call the function\n",
    "results = OneSampleZ.OneSampleZ.one_sample_from_data(params)\n",
    "print(\"Results of One Sample Z-Test from Data:\")\n",
    "for key, value in results.items():\n",
    "    print(f\"{key}: {value}\")\n"
   ]
  }
 ],
 "metadata": {
  "kernelspec": {
   "display_name": ".venv",
   "language": "python",
   "name": "python3"
  },
  "language_info": {
   "codemirror_mode": {
    "name": "ipython",
    "version": 3
   },
   "file_extension": ".py",
   "mimetype": "text/x-python",
   "name": "python",
   "nbconvert_exporter": "python",
   "pygments_lexer": "ipython3",
   "version": "3.12.0"
  }
 },
 "nbformat": 4,
 "nbformat_minor": 2
}
