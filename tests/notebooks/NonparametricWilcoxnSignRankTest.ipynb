{
 "cells": [
  {
   "cell_type": "code",
   "execution_count": 1,
   "metadata": {},
   "outputs": [],
   "source": [
    "import AparametricPaired\n",
    "import numpy as np"
   ]
  },
  {
   "cell_type": "markdown",
   "metadata": {},
   "source": [
    "# From Data"
   ]
  },
  {
   "cell_type": "code",
   "execution_count": 2,
   "metadata": {},
   "outputs": [
    {
     "name": "stdout",
     "output_type": "stream",
     "text": [
      "Results of Paired Samples Aparametric:\n",
      "Sample Median 1: 47.0\n",
      "Sample Median 2: 33.0\n",
      "Median of the Differnece: 0.0\n",
      "Median of Absoult Deviation: 11.0\n",
      "Sample Mean 1: 34.72\n",
      "Sample Mean 2: 32.08\n",
      "Sample Standard Deviation 1: 16.5013\n",
      "Sample Standard Deviation 2: 17.2601\n",
      "Number of Pairs: 25\n",
      "Number of Pairs with a Sign: 20\n",
      "Number of times Group 1 is Larger: 10\n",
      "Number of times Group 2 is larger: 10\n",
      "Number of times Group 1 and 2 are Equal: 5\n",
      "Wilcoxon Method: \n",
      "_______________: \n",
      "Sum of the Positive Ranks (without ties): 119.5\n",
      "Sum of the Negative Ranks (without ties): 90.5\n",
      "Wilcoxon Mean W (Without ties): 105.0\n",
      "Wilcoxon Standard Deviation: 26.75350444334349\n",
      "Wilcoxon Z: 0.5419850708047232\n",
      "Wilcoxon Z With Normal Approximation (Continuiety Correction): 0.5232959304321466\n",
      "Wilcoxon p-value: 0.5878287905014652\n",
      "Wilcoxon p-value with Normal Approximation (Continuiety Correction): 0.6007683325463298\n",
      "Wilcoxon p-value2): 0.5882844808893127\n",
      "Wilcoxon p-value3): 0.6012127057398096\n",
      "Matched Pairs Rank Biserial Correlation (Ignoring Ties): 0.1381\n",
      "Z-based Rank Biserial Correlation (Wilcoxon Method) : 0.12119\n",
      "Z-based Corrected Rank Biserial Correlation (Wilcoxon Method): 0.11701\n",
      "Standard Error of the Matched Pairs Rank Biserial Correlation (Wilcoxon Method): 3.6968\n",
      "Lower CI Matched Pairs Rank Biserial Wilcoxon: -0.09257\n",
      "Upper CI Matched Pairs Rank Biserial Wilcoxon: 0.35469\n",
      "Lower CI Z-based Rank Biserial Wilcoxon: -0.10959\n",
      "Upper CI Z-based Rank Biserial Wilcoxon: 0.33957\n",
      "Lower CI Z-based Corrected Rank Biserial Wilcoxon: -0.11377\n",
      "Upper CI Z-based Corrected Rank Biserial Wilcoxon: 0.33582\n",
      "Statistical Line Wilcoxon:  \u001b[3mTw\u001b[0m = 119.5, \u001b[3mZ\u001b[0m = 0.542, \u001b[3mp = \u001b[0m.588, \u001b[3mRBz\u001b[0m = .121, 95% CI(Fisher) [-.11, .34]\n",
      "Statistical Line Wilcoxon Corrected:  \u001b[3mTw\u001b[0m = 119.5, \u001b[3mZcorrected\u001b[0m = 0.523, \u001b[3mp = \u001b[0m.601, \u001b[3mRBz\u001b[0m = .117, 95% CI(Fisher) [-.114, .336]\n",
      "Statistical Line Wilcoxon Matched Pairs:  \u001b[3mTw\u001b[0m = 119.5, \u001b[3mZcorrected\u001b[0m = 0.523, \u001b[3mp = \u001b[0m.601, \u001b[3mRBmp\u001b[0m = .138, 95% CI(Fisher) [-.093, .355]\n",
      "Pratt Method: \n",
      "______________: \n",
      "Sum of the Positive Ranks (with ties): 169.5\n",
      "Sum of the Negative Ranks (with ties): 140.5\n",
      "Pratt MeanW (Considering Ties): 155.0\n",
      "Pratt Standard Deviation: 36.95605498426476\n",
      "Pratt Z: 0.3923578965929628\n",
      "Pratt Z with Normal Approximation (Continuiety Correction): 0.37882831395182615\n",
      "Pratt p-value: 0.6947937906743076\n",
      "Pratt p-value with Normal Approximation (Continuiety Correction): 0.7048153602500984\n",
      "Matched Pairs Rank Biserial Correlation (Considering Ties) : 0.08923\n",
      "Z-based Rank Biserial Correlation (Pratt Method): 0.07847\n",
      "Z-based Corrected Rank Biserial Correlation (Pratt Method): 0.07577\n",
      "Standard Error of the Matched Pairs Rank Biserial Correlation (Pratt Method): 4.1231\n",
      "Lower CI Matched Pairs Rank Biserial Pratt: -0.16748\n",
      "Upper CI Matched Pairs Rank Biserial Pratt: 0.33461\n",
      "Lower CI Z-based Rank Biserial Pratt: -0.178\n",
      "Upper CI Z-based Rank Biserial Pratt: 0.32496\n",
      "Lower CI Z-based Corrected Rank Biserial Pratt: -0.18063\n",
      "Upper CI Z-based Corrected Rank Biserial  Pratt: 0.32252\n",
      "Statistical Line Pratt:  \u001b[3mTp\u001b[0m = 169.5, \u001b[3mZ\u001b[0m = 0.392, \u001b[3mp = \u001b[0m.695, \u001b[3mRBz\u001b[0m = .078, 95% CI(Fisher) [-.178, .325]\n",
      "Statistical Line Pratt Corrected:  \u001b[3mTp\u001b[0m = 169.5, \u001b[3mZcorrected\u001b[0m = 0.379, \u001b[3mp = \u001b[0m.705, \u001b[3mRBz\u001b[0m = .076, 95% CI(Fisher) [-.181, .323]\n",
      "Statistical Line Pratt Matched Pairs:  \u001b[3mTp\u001b[0m = 169.5, \u001b[3mZcorrected\u001b[0m = 0.379, \u001b[3mp = \u001b[0m.705, \u001b[3mRBmp\u001b[0m = .089, 95% CI(Fisher) [-.167, .335]\n"
     ]
    }
   ],
   "source": [
    "# This is a small data with negative wilcoxon stataistics values\n",
    "params = {\n",
    "    \"Column 1\": np.array([7,1,22,3,7,28,6]),\n",
    "    \"Column 2\": np.array([10,0,22,5,13,37,8]),\n",
    "    \"Confidence Level\": 95,\n",
    "    \"Difference in the Population\": 0\n",
    "}\n",
    "\n",
    "\n",
    "params = {\n",
    "    \"Column 2\": np.array([21, 11, 51, 49, 52, 47, 12, 53, 17, 50, 14, 33, 11, 50, 49, 52, 47, 22, 25, 30, 19, 51, 16, 18, 19]),\n",
    "    \"Column 1\": np.array([10, 11, 12, 14, 16, 17, 18, 19, 19, 22, 22, 25, 30, 33, 47, 47, 49, 49, 50, 50, 51, 51, 52, 52, 53]),\n",
    "    \"Confidence Level\": 95,\n",
    "    \"Difference in the Population\": 0\n",
    "}\n",
    "\n",
    "# This is a data with many ties\n",
    "params = {\n",
    "    \"Column 1\": np.array([21, 11, 51, 49, 47, 47, 12, 53, 17, 50, 14, 33, 11, 50, 49, 52, 47, 22, 49, 30, 49, 51, 16, 18, 19]),\n",
    "    \"Column 2\": np.array([10, 11, 12, 14, 16, 17, 12, 19, 19, 22, 22, 33, 11, 33, 47, 47, 49, 49, 50, 50, 51, 51, 52, 52, 53]),\n",
    "    \"Confidence Level\": 95,\n",
    "    \"Difference in the Population\": 0\n",
    "}\n",
    "\n",
    "# Call the function\n",
    "results = AparametricPaired.Aparametric_Paired_Samples.Apermetric_Effect_Size_Dependent(params)\n",
    "\n",
    "# Print the results\n",
    "print(\"Results of Paired Samples Aparametric:\")\n",
    "for key, value in results.items():\n",
    "    print(f\"{key}: {value}\")"
   ]
  },
  {
   "cell_type": "code",
   "execution_count": null,
   "metadata": {},
   "outputs": [],
   "source": []
  }
 ],
 "metadata": {
  "kernelspec": {
   "display_name": "Python 3",
   "language": "python",
   "name": "python3"
  },
  "language_info": {
   "codemirror_mode": {
    "name": "ipython",
    "version": 3
   },
   "file_extension": ".py",
   "mimetype": "text/x-python",
   "name": "python",
   "nbconvert_exporter": "python",
   "pygments_lexer": "ipython3",
   "version": "3.12.0"
  }
 },
 "nbformat": 4,
 "nbformat_minor": 2
}
