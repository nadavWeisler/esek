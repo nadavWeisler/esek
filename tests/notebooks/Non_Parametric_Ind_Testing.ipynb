{
 "cells": [
  {
   "cell_type": "code",
   "execution_count": 1,
   "metadata": {},
   "outputs": [
    {
     "name": "stdout",
     "output_type": "stream",
     "text": [
      "Results of Independent Samples Aparametric:\n",
      "Sample Mean 1: 6.1111\n",
      "Sample Mean 2: 9.1\n",
      "Sample median 1: 3.0\n",
      "Sample median 2: 9.5\n",
      "Sample Size 1: 9\n",
      "Sample Size 2: 10\n",
      "Sum of the Ranks 1 (W1): 75.5\n",
      "Sum of the Ranks 2 (W2)): 114.5\n",
      "Mean Ranks 1: 8.3889\n",
      "Mean Ranks 2: 11.45\n",
      "U1 Statistic: 30.5\n",
      "U2 Statistic: 59.5\n",
      "Mean W 1: 90.0\n",
      "Mean W 2: 100.0\n",
      "Variance: 148.1579\n",
      "Standard Deviation: 12.172\n",
      "z: 1.1913\n",
      "zcorrected: 1.1502\n",
      "p-value: 0.233553\n",
      "p-value corrected: 0.25007\n",
      "Exact p-value: 0.277512\n",
      "Rank Biserial Correlation (Cureton, Glass, Kerby): -0.3222\n",
      "Rank Biserial Correlation Based on Z Score (Rosenthal): 0.2733\n",
      "Rank Biserial Correlation Based on Corrected Z Score (Rosenthal): 0.263869\n",
      "Statistical Line RBC:  \u001b[3mU\u001b[0m = 30.5, \u001b[3mZcorrcted\u001b[0m = 1.150, \u001b[3mp = \u001b[0m.250, \u001b[3mRBip\u001b[0m = -.322, 95% CI(Fisher) [-.363, -.28]\n",
      "Statistical Line Z-based RBC:  \u001b[3mU\u001b[0m = 30.5, \u001b[3mZ\u001b[0m = 1.191, \u001b[3mp = \u001b[0m.234, \u001b[3mRBz\u001b[0m = .273, 95% CI(Fisher) [.23, .315]\n",
      "Statistical Line Corrected Z-based RBC:  \u001b[3mU\u001b[0m = 30.5, \u001b[3mZcorrected\u001b[0m = 1.150, \u001b[3mp = \u001b[0m.250, \u001b[3mRBz\u001b[0m = .264, 95% CI(Fisher) [.22, .306]\n"
     ]
    }
   ],
   "source": [
    "import Non_Parametric_Ind_Samples\n",
    "import numpy as np\n",
    "\n",
    "# From Data\n",
    "params = {\n",
    "    \"Column 1\": np.array([12,13,14,2,3,4,2,3,2]),\n",
    "    \"Column 2\": np.array([11,14,13,2,7,8,9,11,10,6]),\n",
    "    \"Confidence Level\": 95,\n",
    "}\n",
    "\n",
    "# Call the function\n",
    "results = Non_Parametric_Ind_Samples.Aparametric_Paired_Samples.Apermetric_Effect_Size_Independent(params)\n",
    "\n",
    "# Print the results\n",
    "print(\"Results of Independent Samples Aparametric:\")\n",
    "for key, value in results.items():\n",
    "    print(f\"{key}: {value}\")"
   ]
  },
  {
   "cell_type": "code",
   "execution_count": null,
   "metadata": {},
   "outputs": [],
   "source": []
  }
 ],
 "metadata": {
  "kernelspec": {
   "display_name": "Python 3",
   "language": "python",
   "name": "python3"
  },
  "language_info": {
   "codemirror_mode": {
    "name": "ipython",
    "version": 3
   },
   "file_extension": ".py",
   "mimetype": "text/x-python",
   "name": "python",
   "nbconvert_exporter": "python",
   "pygments_lexer": "ipython3",
   "version": "3.9.4"
  }
 },
 "nbformat": 4,
 "nbformat_minor": 2
}
