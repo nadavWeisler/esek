{
 "cells": [
  {
   "cell_type": "code",
   "execution_count": 2,
   "metadata": {},
   "outputs": [
    {
     "data": {
      "text/plain": [
       "{'Chisquare_Value': 2.580645161290322,\n",
       " 'Degrees_Of_Freedom': 2,\n",
       " 'p_value': 0.2751820003835105}"
      ]
     },
     "execution_count": 2,
     "metadata": {},
     "output_type": "execute_result"
    }
   ],
   "source": [
    "import numpy as np\n",
    "from scipy.stats import chi2\n",
    "\n",
    "# Wish list - maybe add stweart_Maxwell test and chi square confidence intervals\n",
    "\n",
    "contingency_table = np.array([4, 4, 2, 2, 6, 0, 0, 2, 0]).reshape(3, 3)\n",
    "\n",
    "def BhapkarTest(contingency_table):\n",
    "    sample_size = np.sum(contingency_table)\n",
    "    Sum_Of_The_Rows = np.sum(contingency_table, axis=1)[:-1]\n",
    "    Sums_Of_The_Coloumns = np.sum(contingency_table, axis=0)[:-1]\n",
    "    Matrix_of_d_values = np.array([Sum_Of_The_Rows - Sums_Of_The_Coloumns] * len(Sums_Of_The_Coloumns)).T  # Adjusted here\n",
    "    Agreement_Matrix = np.zeros((contingency_table.shape[0] - 1, contingency_table.shape[1] - 1))\n",
    "    np.fill_diagonal(Agreement_Matrix, Sum_Of_The_Rows + Sums_Of_The_Coloumns)\n",
    "    Weights = contingency_table[:-1, :-1]\n",
    "    Variance_Covaraince_Matrix = Agreement_Matrix - Weights.T - Weights - (Matrix_of_d_values * Matrix_of_d_values.T) / sample_size  # Adjusted here\n",
    "    Inverse_Variance_Matrix = np.linalg.inv(Variance_Covaraince_Matrix)\n",
    "    Chisquare_Value = abs((Matrix_of_d_values @ Matrix_of_d_values.T @ Inverse_Variance_Matrix)[0,0])\n",
    "    Degrees_Of_Freedom = contingency_table.shape[0] - 1\n",
    "    p_value = 1 - chi2.cdf(Chisquare_Value, Degrees_Of_Freedom)\n",
    "\n",
    "\n",
    "    results = {}\n",
    "    results[\"Chisquare_Value\"]= Chisquare_Value\n",
    "    results[\"Degrees_Of_Freedom\"]= Degrees_Of_Freedom\n",
    "    results[\"p_value\"] = p_value\n",
    "\n",
    "    result_str = \"\\n\".join([f\"{key}: {value}\" for key, value in results.items()])\n",
    "    return results\n",
    "\n",
    "BhapkarTest(contingency_table)\n"
   ]
  },
  {
   "cell_type": "code",
   "execution_count": null,
   "metadata": {},
   "outputs": [],
   "source": []
  }
 ],
 "metadata": {
  "kernelspec": {
   "display_name": "Python 3",
   "language": "python",
   "name": "python3"
  },
  "language_info": {
   "codemirror_mode": {
    "name": "ipython",
    "version": 3
   },
   "file_extension": ".py",
   "mimetype": "text/x-python",
   "name": "python",
   "nbconvert_exporter": "python",
   "pygments_lexer": "ipython3",
   "version": "3.9.4"
  },
  "orig_nbformat": 4
 },
 "nbformat": 4,
 "nbformat_minor": 2
}
