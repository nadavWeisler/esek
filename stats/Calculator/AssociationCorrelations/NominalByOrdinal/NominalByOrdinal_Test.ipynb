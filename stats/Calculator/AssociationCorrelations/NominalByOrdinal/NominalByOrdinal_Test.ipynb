{
 "cells": [
  {
   "cell_type": "code",
   "execution_count": null,
   "metadata": {},
   "outputs": [
    {
     "name": "stdout",
     "output_type": "stream",
     "text": [
      "Results of Nominal by Nominal from Contingency Table:\n",
      "H Statistic: 3.362446053690276\n",
      "Degrees of Freedom of the Kruskal Wallis Test: 1\n",
      "p-value of the Kruskal Wallis Test: 0.06669892888249743\n",
      "Epsilon Square: 0.04944773608368053\n",
      "Lower Ci of Epsilon Square: 0.0033681994719227913\n",
      "Upper Ci of Epsilon Square: 0.08854967384831926\n",
      "Freeman's Theta: 0.35944700460829493\n",
      "Freeman's Theta Lower CI: 0.08715163934426229\n",
      "Freeman's Theta Upper Ci: 0.6393887362637363\n",
      "Statistical Line Epsilon Square:  \u001b[3mH\u001b[0m(1) = 3.362, \u001b[3mp = \u001b[0m.067, \u001b[3mε²\u001b[0m = .049, 95% CI(bootsrapping) [.003, .089]\n",
      "Rank Biserial Correlation: -0.17972350230414746\n",
      "Lower CI Rank Biserial Correlation: -0.23481929438812785\n",
      "Upper CI Rank Biserial Correlation: -0.12347661488340259\n",
      "\n",
      "Results of Nominal by Nominal from Data:\n",
      "H Statistic: 8.449411764705891\n",
      "Degrees of Freedom of the Kruskal Wallis Test: 2\n",
      "p-value of the Kruskal Wallis Test: 0.014629636911272092\n",
      "Epsilon Square: 0.6035294117647065\n",
      "Lower Ci of Epsilon Square: 0.46235308203741277\n",
      "Upper Ci of Epsilon Square: 0.9421252429543251\n",
      "Freeman's Theta: 0.6266666666666667\n",
      "Freeman's Theta Lower CI: 0.4838235294117647\n",
      "Freeman's Theta Upper Ci: 0.876736771983251\n",
      "Statistical Line Epsilon Square:  \u001b[3mH\u001b[0m(2) = 8.449, \u001b[3mp = \u001b[0m.015, \u001b[3mε²\u001b[0m = .604, 95% CI(bootsrapping) [.462, .942]\n",
      "\n"
     ]
    }
   ],
   "source": [
    "import NominalByOrdinal\n",
    "import numpy as np \n",
    "\n",
    "#########################################\n",
    "# Caclulating from Contingency Table ####\n",
    "#########################################\n",
    "\n",
    "\n",
    "#From Contingency Table\n",
    "params = {\n",
    "    \"Contingency Table\" : np.array([[40, 22], [2, 5]]),\n",
    "    \"Number of Bootstrapping Samples\": 10, \n",
    "    \"Confidence Level\": 95\n",
    "}\n",
    "\n",
    "# Call the function\n",
    "results = NominalByOrdinal.Nominal_by_Ordinal.Nominal_By_Ordinal_from_Contingency_Table(params)\n",
    "\n",
    "# Print the results\n",
    "print(\"Results of Nominal by Ordinal from Contingency Table:\")\n",
    "for key, value in results.items():\n",
    "    print(f\"{key}: {value}\")\n",
    "\n",
    "print()\n",
    "\n",
    "#########################################\n",
    "# Caclulating from Data #################\n",
    "#########################################\n",
    "\n",
    "params = {\n",
    "    \"Nominal Variable\": np.array([\"a\",\"a\",\"a\",\"a\",\"a\",\"b\",\"b\",\"b\",\"b\",\"b\",\"c\",\"c\",\"c\",\"c\",\"c\"]), \n",
    "    \"Ordinal Variable\": np.array([1,3,2,4,3,1,1,1,1,1,2,2,3,4,3]),\n",
    "    \"Number of Bootstrapping Samples\": 10, \n",
    "    \"Confidence Level\": 95\n",
    "}\n",
    "\n",
    "# Call the function\n",
    "results = NominalByOrdinal.Nominal_by_Ordinal.Nominal_By_Ordinal_from_Data(params)\n",
    "\n",
    "\n",
    "# Print the results\n",
    "print(\"Results of Nominal by Ordinal from Data:\")\n",
    "for key, value in results.items():\n",
    "    print(f\"{key}: {value}\")\n",
    "\n",
    "print()\n"
   ]
  },
  {
   "cell_type": "code",
   "execution_count": null,
   "metadata": {},
   "outputs": [],
   "source": []
  }
 ],
 "metadata": {
  "kernelspec": {
   "display_name": "Python 3",
   "language": "python",
   "name": "python3"
  },
  "language_info": {
   "codemirror_mode": {
    "name": "ipython",
    "version": 3
   },
   "file_extension": ".py",
   "mimetype": "text/x-python",
   "name": "python",
   "nbconvert_exporter": "python",
   "pygments_lexer": "ipython3",
   "version": "3.8.10"
  }
 },
 "nbformat": 4,
 "nbformat_minor": 2
}
