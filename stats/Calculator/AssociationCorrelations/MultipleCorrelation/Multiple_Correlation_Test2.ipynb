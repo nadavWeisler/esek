{
 "cells": [
  {
   "cell_type": "code",
   "execution_count": 1,
   "metadata": {},
   "outputs": [
    {
     "name": "stdout",
     "output_type": "stream",
     "text": [
      "Results of R Sqared From Data:\n",
      "R_Squared: 0.6255806263791344\n",
      "Number Of Predictors: 3\n",
      "Sample_Size: 22\n",
      "Degrees of Freedom 1: 3\n",
      "Degrees of Freedom 2: 19\n",
      "F score: 10.024811809218924\n",
      "p_value: 0.0003541067419655059\n",
      "R Square Estimation: Smith (1928): 0.5664617779126819\n",
      "Ezekiel (1930): 0.5631773974423234\n",
      "Wherry (1931): 0.5861680607348327\n",
      "Olkin & Pratt (1958): 0.5888674780002634\n",
      "Olkin & Pratt, Pratt's Approximation (1964): 0.5870576107487656\n",
      "Olkin & Pratt, Herzberg's Approximation (1968): 0.5899817307362519\n",
      "Olkin & Pratt, Claudy's Approximation (1978): 0.6115616396448702\n",
      "Olkin & Pratt, Cattin's Approximation (1980): 0.5872182174278561\n",
      "Alf and Graf MLE (2002): 0.5742343395059979\n",
      "Lord(1950): 0.4591720158809719\n",
      "Lord_Nicholson(1960): 0.4837551060682004\n",
      "Darlington/Stein (1967/1960): 0.4627315583515208\n",
      "Burket (1964): 0.7161911758889273\n",
      "Brown_Large_Samples (1975): 0.5179738533326649\n",
      "Brown_Small_Samples (1975): 0.5458046078602083\n",
      "Rozeboom I (1978): 0.5073429294462294\n",
      "Rozeboom II Large Samples- (1978): 0.4953720812778357\n",
      "Rozeboom II Small Samples (1978): 0.5242731727901806\n",
      "Claudy-I, Large Samples (1978): 0.5007741685055125\n",
      "Claudy-I, Small Samples (1978): 0.5521543296213924\n",
      "\n"
     ]
    }
   ],
   "source": [
    "import Multiple_R_Square\n",
    "import numpy as np\n",
    "import pandas as pd\n",
    "\n",
    "# From Data\n",
    "\n",
    "params = {\n",
    "    \"Data\": pd.DataFrame({\n",
    "        \"Predicted\": [1, 2, 3, 4, 3, 2, 1, 3, 5, 4, 3, 2, 2, 2, 1, 2, 1, 2, 3, 2, 1, 1],\n",
    "        \"x1\": [2, 2, 2, 2, 2, 3, 3, 3, 3, 3, 4, 4, 4, 4, 4, 5, 5, 5, 5, 5, 5, 5],\n",
    "        \"x2\": [1, 2, 3, 4, 3, 2, 1, 3, 5, 4, 1, 1, 1, 1, 1, 2, 3, 2, 1, 1, 1, 1],\n",
    "        \"x3\": [2, 1, 2, 3, 2, 1, 4, 5, 3, 4, 4, 4, 4, 4, 3, 2, 1, 2, 1, 2, 2, 2]\n",
    "    }),\n",
    "    \"Confidence Level\": 95\n",
    "}\n",
    "\n",
    "# Call the function\n",
    "results = Multiple_R_Square.R_Squared.R_Squared_From_Data(params)\n",
    "\n",
    "\n",
    "# Print the results\n",
    "print(\"Results of R Sqared From Data:\")\n",
    "for key, value in results.items():\n",
    "    print(f\"{key}: {value}\")\n",
    "\n",
    "print()"
   ]
  },
  {
   "cell_type": "code",
   "execution_count": null,
   "metadata": {},
   "outputs": [],
   "source": []
  }
 ],
 "metadata": {
  "kernelspec": {
   "display_name": "Python 3",
   "language": "python",
   "name": "python3"
  },
  "language_info": {
   "codemirror_mode": {
    "name": "ipython",
    "version": 3
   },
   "file_extension": ".py",
   "mimetype": "text/x-python",
   "name": "python",
   "nbconvert_exporter": "python",
   "pygments_lexer": "ipython3",
   "version": "undefined.undefined.undefined"
  }
 },
 "nbformat": 4,
 "nbformat_minor": 2
}
