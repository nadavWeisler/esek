{
 "cells": [
  {
   "cell_type": "code",
   "execution_count": 1,
   "metadata": {},
   "outputs": [
    {
     "name": "stdout",
     "output_type": "stream",
     "text": [
      "Results for Interval/Ratio Correlation from Data\n",
      "eta_output : Eta (Variable X is Indpendent): (0.08804509063256245, [0.0, 0.5850854501211606])\n",
      "Eta (Variable y is Indpendent): (0.5163977794943222, [0.0, 0.8011660076998269])\n",
      "Attenuated Correct Eta (Variable X is Indpendent): (0.11111111111111122, [0.0, 0.6080860028836413])\n",
      "Attenuated Correct Eta (Variable y is Indpendent): (0.6030226891555273, [0.0, 0.8355316915277181])\n",
      "_______________________: \n",
      "Point Biserial Correlation: Point Biserial Correlation: -0.08804509063256243\n",
      "p-value: 0.8088874454935346\n",
      "Confidence Intervals Point Biserial Correlation (Fisher): (-0.68, 0.5734)\n",
      "Approximated point biserial correlation (Hedges & Olkin, 1985): -0.09428527424328667\n",
      "Fisher Transformed Confidence Intervals Approximated Point Biserial Correlation): (-0.6833, 0.5691)\n",
      "Max Corrected point biserial correlation (Hedges & Olkin, 1985): -0.11111111111111117\n",
      "Fisher Transformed Confidence Intervals Max Corrected Point Biserial Correlation): (-0.6923, 0.5575)\n",
      "\n",
      "Results for Interval/Ratio Correlation From Contingency Table\n",
      "eta_output : Eta (Variable X is Indpendent): (0.08804509063256245, [0.0, 0.5850854501211606])\n",
      "Eta (Variable y is Indpendent): (0.5163977794943223, [0.0, 0.801166007699827])\n",
      "Attenuated Correct Eta (Variable X is Indpendent): (0.11111111111111122, [0.0, 0.6080860028836413])\n",
      "Attenuated Correct Eta (Variable y is Indpendent): (0.6030226891555273, [0.0, 0.8355316915277181])\n",
      "_______________________: \n",
      "Point Biserial Correlation: Point Biserial Correlation: -0.08804509063256237\n",
      "p-value: 0.8088874454935355\n",
      "Confidence Intervals Point Biserial Correlation (Fisher): (-0.68, 0.5734)\n",
      "Approximated point biserial correlation (Hedges & Olkin, 1985): -0.09428527424328662\n",
      "Fisher Transformed Confidence Intervals Approximated Point Biserial Correlation): (-0.6833, 0.5691)\n",
      "Max Corrected point biserial correlation (Hedges & Olkin, 1985): -0.1111111111111111\n",
      "Fisher Transformed Confidence Intervals Max Corrected Point Biserial Correlation): (-0.6923, 0.5575)\n",
      "\n"
     ]
    }
   ],
   "source": [
    "import Nominal_by_Interval\n",
    "import numpy as np\n",
    "\n",
    "\n",
    "params = {\n",
    "    \"Nominal\": np.array([\"a\", \"a\", \"a\", \"a\", \"a\", \"b\",\"b\", \"b\",\"b\",\"b\"]), \n",
    "    \"Interval\": np.array([5,4,3,2,1,2,3,4,2,3]), \n",
    "    \"Confidence Level\": 95\n",
    "}\n",
    "\n",
    "#Call the function\n",
    "results = Nominal_by_Interval.NominalInterval.Nominal_by_Interval_From_Data(params)\n",
    "\n",
    "# Print the results\n",
    "print(\"Results for Interval/Ratio Correlation from Data\")\n",
    "for key, value in results.items():\n",
    "    print(f\"{key}: {value}\")\n",
    "\n",
    "print()\n",
    "\n",
    "params = {\n",
    "    \"Table\": np.array([[1,1,1,1,1], [0,2,2,1,0]]), \n",
    "    \"Confidence Level\": 95\n",
    "}\n",
    "\n",
    "#Call the function\n",
    "results = Nominal_by_Interval.NominalInterval.Nominal_by_Interval_From_Contingency_Table(params)\n",
    "\n",
    "# Print the results\n",
    "print(\"Results for Interval/Ratio Correlation From Contingency Table\")\n",
    "for key, value in results.items():\n",
    "    print(f\"{key}: {value}\")\n",
    "\n",
    "print()"
   ]
  },
  {
   "cell_type": "code",
   "execution_count": null,
   "metadata": {},
   "outputs": [],
   "source": []
  }
 ],
 "metadata": {
  "kernelspec": {
   "display_name": "Python 3",
   "language": "python",
   "name": "python3"
  },
  "language_info": {
   "codemirror_mode": {
    "name": "ipython",
    "version": 3
   },
   "file_extension": ".py",
   "mimetype": "text/x-python",
   "name": "python",
   "nbconvert_exporter": "python",
   "pygments_lexer": "ipython3",
   "version": "3.8.10"
  }
 },
 "nbformat": 4,
 "nbformat_minor": 2
}
