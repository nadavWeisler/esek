{
 "cells": [
  {
   "cell_type": "code",
   "execution_count": 1,
   "metadata": {},
   "outputs": [],
   "source": [
    "import numpy as np\n",
    "import OneSampleAparametric"
   ]
  },
  {
   "cell_type": "markdown",
   "metadata": {},
   "source": [
    "# From Data"
   ]
  },
  {
   "cell_type": "code",
   "execution_count": 3,
   "metadata": {},
   "outputs": [
    {
     "name": "stdout",
     "output_type": "stream",
     "text": [
      "Results of one-sample Aparametric:\n",
      "Sample: 175.0\n",
      "Sample Median: 0.0\n",
      "Median of the Differnece: 0.0\n",
      "Median of Absoult Deviation: 11.0\n",
      "Sample Mean: 2.68\n",
      "Sample Standard Deviation: 22.0052\n",
      "Number of Pairs: 25\n",
      "Number of Pairs with a Sign: 21\n",
      "Number of times Sample  is Larger: 11\n",
      "Number of times Sample is Smaller: 10\n",
      "Number of ties: 4\n",
      "Wilcoxon Method: \n",
      "_______________: \n",
      "Sum of the Positive Ranks (without ties): 131.0\n",
      "Sum of the Negative Ranks (without ties): 100.0\n",
      "Wilcoxon Mean W (Without ties): 115.5\n",
      "Wilcoxon Standard Deviation: 28.738040990993106\n",
      "Wilcoxon Z: 0.5393547877831307\n",
      "Wilcoxon Z With Normal Approximation (Continuity Correction): 0.5219562462417394\n",
      "Wilcoxon p-value: 0.5896420714993225\n",
      "Wilcoxon p-value with Normal Approximation (Continuity Correction): 0.6017007948869066\n",
      "Matched Pairs Rank Biserial Correlation (Ignoring Ties): 0.1342\n",
      "Z-based Rank Biserial Correlation (Wilcoxon Method) : 0.1177\n",
      "Z-based Corrected Rank Biserial Correlation (Wilcoxon Method): 0.1139\n",
      "Standard Error of the Matched Pairs Rank Biserial Correlation (Wilcoxon Method): 2.708\n",
      "Lower CI Matched Pairs Rank Biserial Wilcoxon: -0.03478\n",
      "Upper CI Matched Pairs Rank Biserial Wilcoxon: 0.29572\n",
      "Lower CI Z-based Rank Biserial Wilcoxon: -0.05152\n",
      "Upper CI Z-based Rank Biserial Wilcoxon: 0.28034\n",
      "Lower CI Z-based Corrected Rank Biserial Wilcoxon: -0.05536\n",
      "Upper CI Z-based Corrected Rank Biserial Wilcoxon: 0.27679\n",
      "Statistical Line Wilcoxon:  \u001b[3mTw\u001b[0m = 131, \u001b[3mZ\u001b[0m = 0.539, \u001b[3mp = \u001b[0m.590, \u001b[3mRBz\u001b[0m = .118, 95% CI(Fisher) [-.052, .28]\n",
      "Statistical Line Wilcoxon Corrected:  \u001b[3mTw\u001b[0m = 131, \u001b[3mZcorrected\u001b[0m = 0.522, \u001b[3mp = \u001b[0m.602, \u001b[3mRBz\u001b[0m = .114, 95% CI(Fisher) [-.055, .277]\n",
      "Statistical Line Wilcoxon Matched Pairs:  \u001b[3mTw\u001b[0m = 131, \u001b[3mZcorrected\u001b[0m = 0.522, \u001b[3mp = \u001b[0m.602, \u001b[3mRBmp\u001b[0m = .134, 95% CI(Fisher) [-.035, .296]\n",
      "Pratt Method: \n",
      "______________: \n",
      "Sum of the Positive Ranks (with ties): 175.0\n",
      "Sum of the Negative Ranks (with ties): 140.0\n",
      "Pratt MeanW (Considering Ties): 157.5\n",
      "Pratt Standard Deviation: 37.038830975072635\n",
      "Pratt Z: 0.4724771149439789\n",
      "Pratt Z with Normal Approximation (Continuity Correction): 0.4589777688027224\n",
      "Pratt p-value: 0.636586272816575\n",
      "Pratt p-value with Normal Approximation (Continuity Correction): 0.6462501306150965\n",
      "Matched Pairs Rank Biserial Correlation (Considering Ties) : 0.10769\n",
      "Z-based Rank Biserial Correlation (Pratt Method): 0.0945\n",
      "Z-based Corrected Rank Biserial Correlation (Pratt Method): 0.0918\n",
      "Standard Error of the Matched Pairs Rank Biserial Correlation (Pratt Method): 4.1231\n",
      "Lower CI Matched Pairs Rank Biserial Pratt: -0.14931\n",
      "Upper CI Matched Pairs Rank Biserial Pratt: 0.35107\n",
      "Lower CI Z-based Rank Biserial Pratt: -0.16232\n",
      "Upper CI Z-based Rank Biserial Pratt: 0.33932\n",
      "Lower CI Z-based Corrected Rank Biserial Pratt: -0.16497\n",
      "Upper CI Z-based Corrected Rank Biserial  Pratt: 0.33691\n",
      "Statistical Line Pratt:  \u001b[3mTp\u001b[0m = 175, \u001b[3mZ\u001b[0m = 0.472, \u001b[3mp = \u001b[0m.637, \u001b[3mRBz\u001b[0m = .094, 95% CI(Fisher) [-.162, .339]\n",
      "Statistical Line Pratt Corrected:  \u001b[3mTp\u001b[0m = 175, \u001b[3mZcorrected\u001b[0m = 0.459, \u001b[3mp = \u001b[0m.646, \u001b[3mRBz\u001b[0m = .092, 95% CI(Fisher) [-.165, .337]\n",
      "Statistical Line Pratt Matched Pairs:  \u001b[3mTp\u001b[0m = 175, \u001b[3mZcorrected\u001b[0m = 0.459, \u001b[3mp = \u001b[0m.646, \u001b[3mRBmp\u001b[0m = .108, 95% CI(Fisher) [-.149, .351]\n"
     ]
    }
   ],
   "source": [
    "# This is a small data with negative wilcoxon stataistics values\n",
    "params = {\n",
    "    \"Column 1\": np.array([11,0,39,35,31,30,0,34,-2,\t28,\t-8,\t1,\t0,\t17,\t2,\t5,\t-2,\t-27,\t-1,\t-20,\t-2,\t0,\t-36,\t-34,\t-34]),\n",
    "    \"Confidence Level\": 95,\n",
    "    \"Population's Value\": 0\n",
    "}\n",
    "\n",
    "# Call the function\n",
    "results = OneSampleAparametric.Aparametric_One_Sample.Apermetric_Effect_Size_onesample(params)\n",
    "\n",
    "# Print the results\n",
    "print(\"Results of one-sample Aparametric:\")\n",
    "for key, value in results.items():\n",
    "    print(f\"{key}: {value}\")"
   ]
  },
  {
   "cell_type": "code",
   "execution_count": null,
   "metadata": {},
   "outputs": [],
   "source": []
  }
 ],
 "metadata": {
  "kernelspec": {
   "display_name": ".venv",
   "language": "python",
   "name": "python3"
  },
  "language_info": {
   "codemirror_mode": {
    "name": "ipython",
    "version": 3
   },
   "file_extension": ".py",
   "mimetype": "text/x-python",
   "name": "python",
   "nbconvert_exporter": "python",
   "pygments_lexer": "ipython3",
   "version": "3.12.0"
  }
 },
 "nbformat": 4,
 "nbformat_minor": 2
}
