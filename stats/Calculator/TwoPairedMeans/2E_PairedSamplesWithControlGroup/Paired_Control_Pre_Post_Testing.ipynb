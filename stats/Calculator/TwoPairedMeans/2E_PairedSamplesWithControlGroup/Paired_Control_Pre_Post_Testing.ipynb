{
 "cells": [
  {
   "cell_type": "code",
   "execution_count": 1,
   "metadata": {},
   "outputs": [],
   "source": [
    "import ControlGroupPrePost"
   ]
  },
  {
   "cell_type": "markdown",
   "metadata": {},
   "source": [
    "# From Parameters"
   ]
  },
  {
   "cell_type": "code",
   "execution_count": 2,
   "metadata": {},
   "outputs": [
    {
     "ename": "KeyError",
     "evalue": "'Sample Mean Pre Group'",
     "output_type": "error",
     "traceback": [
      "\u001b[1;31m---------------------------------------------------------------------------\u001b[0m",
      "\u001b[1;31mKeyError\u001b[0m                                  Traceback (most recent call last)",
      "Cell \u001b[1;32mIn[2], line 15\u001b[0m\n\u001b[0;32m      1\u001b[0m params \u001b[38;5;241m=\u001b[39m {\n\u001b[0;32m      2\u001b[0m     \u001b[38;5;124m\"\u001b[39m\u001b[38;5;124mStandart Deviation of the Difference in the Population\u001b[39m\u001b[38;5;124m\"\u001b[39m: \u001b[38;5;241m15\u001b[39m,\n\u001b[0;32m      3\u001b[0m     \u001b[38;5;124m\"\u001b[39m\u001b[38;5;124mSample Mean Experimental Group\u001b[39m\u001b[38;5;124m\"\u001b[39m: \u001b[38;5;241m69.7\u001b[39m,\n\u001b[1;32m   (...)\u001b[0m\n\u001b[0;32m     10\u001b[0m     \u001b[38;5;124m\"\u001b[39m\u001b[38;5;124mConfidence Level\u001b[39m\u001b[38;5;124m\"\u001b[39m: \u001b[38;5;241m95\u001b[39m\n\u001b[0;32m     11\u001b[0m }\n\u001b[0;32m     14\u001b[0m \u001b[38;5;66;03m# Call the function\u001b[39;00m\n\u001b[1;32m---> 15\u001b[0m results \u001b[38;5;241m=\u001b[39m \u001b[43mControlGroupPrePost\u001b[49m\u001b[38;5;241;43m.\u001b[39;49m\u001b[43mdependent_Samples_Control_Group\u001b[49m\u001b[38;5;241;43m.\u001b[39;49m\u001b[43mTwo_dependent_samples_with_Pre_Post_from_parameters\u001b[49m\u001b[43m(\u001b[49m\u001b[43mparams\u001b[49m\u001b[43m)\u001b[49m\n\u001b[0;32m     17\u001b[0m \u001b[38;5;66;03m# Print the results\u001b[39;00m\n\u001b[0;32m     18\u001b[0m \u001b[38;5;28mprint\u001b[39m(\u001b[38;5;124m\"\u001b[39m\u001b[38;5;124mResults of Indpednent Samples t-test with a control group from Parameters:\u001b[39m\u001b[38;5;124m\"\u001b[39m)\n",
      "File \u001b[1;32mc:\\Users\\weisl\\Desktop\\Repos\\Research\\Self\\esek\\ESEK_Functions\\Calculator\\2_TwoPairedMeans\\2E_PairedSamplesWithControlGroup\\ControlGroupPrePost.py:79\u001b[0m, in \u001b[0;36mdependent_Samples_Control_Group.Two_dependent_samples_with_Pre_Post_from_parameters\u001b[1;34m(params)\u001b[0m\n\u001b[0;32m     75\u001b[0m \u001b[38;5;129m@staticmethod\u001b[39m\n\u001b[0;32m     76\u001b[0m \u001b[38;5;28;01mdef\u001b[39;00m\u001b[38;5;250m \u001b[39m\u001b[38;5;21mTwo_dependent_samples_with_Pre_Post_from_parameters\u001b[39m(params: \u001b[38;5;28mdict\u001b[39m) \u001b[38;5;241m-\u001b[39m\u001b[38;5;241m>\u001b[39m \u001b[38;5;28mdict\u001b[39m:\n\u001b[0;32m     77\u001b[0m     \n\u001b[0;32m     78\u001b[0m     \u001b[38;5;66;03m# Set params\u001b[39;00m\n\u001b[1;32m---> 79\u001b[0m     sample_mean_Pre \u001b[38;5;241m=\u001b[39m \u001b[43mparams\u001b[49m\u001b[43m[\u001b[49m\u001b[38;5;124;43m\"\u001b[39;49m\u001b[38;5;124;43mSample Mean Pre Group\u001b[39;49m\u001b[38;5;124;43m\"\u001b[39;49m\u001b[43m]\u001b[49m\n\u001b[0;32m     80\u001b[0m     sample_mean_Post \u001b[38;5;241m=\u001b[39m params[\u001b[38;5;124m\"\u001b[39m\u001b[38;5;124mSample Mean Post Group\u001b[39m\u001b[38;5;124m\"\u001b[39m]\n\u001b[0;32m     81\u001b[0m     sample_sd_Pre \u001b[38;5;241m=\u001b[39m params[\u001b[38;5;124m\"\u001b[39m\u001b[38;5;124mStandard Deviation Pre Group\u001b[39m\u001b[38;5;124m\"\u001b[39m]\n",
      "\u001b[1;31mKeyError\u001b[0m: 'Sample Mean Pre Group'"
     ]
    }
   ],
   "source": [
    "params = {\n",
    "    \"Standart Deviation of the Difference in the Population\": 15,\n",
    "    \"Sample Mean Experimental Group\": 69.7,\n",
    "    \"Sample Mean Control Group\": 64.3,\n",
    "    \"Standard Deviation Experimental Group\": 2.8,\n",
    "    \"Standard Deviation Control Group\": 2.6,\n",
    "    \"Sample Size Experimental Group\": 10,\n",
    "    \"Sample Size Control Group\": 20,\n",
    "    \"Difference in the Population\": 0,\n",
    "    \"Confidence Level\": 95\n",
    "}\n",
    "\n",
    "\n",
    "# Call the function\n",
    "results = ControlGroupPrePost.dependent_Samples_Control_Group.Two_dependent_samples_with_Pre_Post_from_parameters(params)\n",
    "\n",
    "# Print the results\n",
    "print(\"Results of Indpednent Samples t-test with a control group from Parameters:\")\n",
    "for key, value in results.items():\n",
    "    print(f\"{key}: {value}\")"
   ]
  },
  {
   "cell_type": "code",
   "execution_count": null,
   "metadata": {},
   "outputs": [
    {
     "ename": "ModuleNotFoundError",
     "evalue": "No module named 'Control_Group_Pre_Post'",
     "output_type": "error",
     "traceback": [
      "\u001b[1;31m---------------------------------------------------------------------------\u001b[0m",
      "\u001b[1;31mModuleNotFoundError\u001b[0m                       Traceback (most recent call last)",
      "Cell \u001b[1;32mIn[7], line 1\u001b[0m\n\u001b[1;32m----> 1\u001b[0m \u001b[38;5;28;01mimport\u001b[39;00m\u001b[38;5;250m \u001b[39m\u001b[38;5;21;01mControl_Group_Pre_Post\u001b[39;00m\n\u001b[0;32m      3\u001b[0m \u001b[38;5;66;03m# From Parameters\u001b[39;00m\n\u001b[0;32m      4\u001b[0m params \u001b[38;5;241m=\u001b[39m {\n\u001b[0;32m      5\u001b[0m     \u001b[38;5;124m\"\u001b[39m\u001b[38;5;124mStandart Deviation of the Difference in the Population\u001b[39m\u001b[38;5;124m\"\u001b[39m: \u001b[38;5;241m15\u001b[39m,\n\u001b[0;32m      6\u001b[0m     \u001b[38;5;124m\"\u001b[39m\u001b[38;5;124mSample Mean Experimental Group\u001b[39m\u001b[38;5;124m\"\u001b[39m: \u001b[38;5;241m69.7\u001b[39m,\n\u001b[1;32m   (...)\u001b[0m\n\u001b[0;32m     13\u001b[0m     \u001b[38;5;124m\"\u001b[39m\u001b[38;5;124mConfidence Level\u001b[39m\u001b[38;5;124m\"\u001b[39m: \u001b[38;5;241m95\u001b[39m\n\u001b[0;32m     14\u001b[0m }\n",
      "\u001b[1;31mModuleNotFoundError\u001b[0m: No module named 'Control_Group_Pre_Post'"
     ]
    }
   ],
   "source": [
    "\n",
    "\n",
    "# From Data\n",
    "params = {\n",
    "    \"column_1\": [22, 48, 14, 55, 33, 44, 50, 22, 48, 16, 46, 23, 48, 50, 49, 52, 47, 50, 45, 53, 59, 16, 46, 52, 48],\n",
    "    \"column_2\": [21, 11, 51, 49, 52, 47, 12, 53, 17, 50, 14, 33, 11, 50, 49, 52, 47, 22, 25, 3, 9, 51, 16, 18, 19, 46],\n",
    "    \"Difference in the Population\": 6,\n",
    "    \"Confidence Level\": 95\n",
    "}\n",
    "\n",
    "# Call the function\n",
    "results = Control_Group_Pre_Post.dependent_Samples_Control_Group.Two_dependent_samples_with_Control_Group_from_data(params)\n",
    "print(\"Results of Indpednent Samples t-test with a control group from Data\")\n",
    "for key, value in results.items():\n",
    "    print(f\"{key}: {value}\")\n"
   ]
  },
  {
   "cell_type": "code",
   "execution_count": null,
   "metadata": {},
   "outputs": [],
   "source": []
  }
 ],
 "metadata": {
  "kernelspec": {
   "display_name": "Python 3",
   "language": "python",
   "name": "python3"
  },
  "language_info": {
   "codemirror_mode": {
    "name": "ipython",
    "version": 3
   },
   "file_extension": ".py",
   "mimetype": "text/x-python",
   "name": "python",
   "nbconvert_exporter": "python",
   "pygments_lexer": "ipython3",
   "version": "3.12.0"
  }
 },
 "nbformat": 4,
 "nbformat_minor": 2
}
