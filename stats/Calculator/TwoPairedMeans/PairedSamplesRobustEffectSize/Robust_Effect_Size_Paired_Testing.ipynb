{
 "cells": [
  {
   "cell_type": "code",
   "execution_count": 1,
   "metadata": {},
   "outputs": [],
   "source": [
    "import RobustPairedSamples\n",
    "import numpy as np"
   ]
  },
  {
   "cell_type": "markdown",
   "metadata": {},
   "source": [
    "# From Data"
   ]
  },
  {
   "cell_type": "code",
   "execution_count": 2,
   "metadata": {},
   "outputs": [
    {
     "name": "stdout",
     "output_type": "stream",
     "text": [
      "Results of Robust Effect Size for Paired Samples\n",
      "Explanatory Power Effect Size (Wilcox & Tian, 2011): 0.4111\n",
      "Lower CI (Bootstrapping) Explanatory Power Effect Size: 0.0521\n",
      "Upper CI (Bootstrapping) Explanatory Power Effect Size: 0.7481\n",
      "Robust Effect Size AKP: -0.4517\n",
      "Lower Confidence Interval Robust AKP: -1.0016\n",
      "Upper Confidence Interval Robust AKP: 0.0475\n",
      "Trimmed Mean 1: 31.8\n",
      "Trimmed Mean 2: 45.0\n",
      "Winsorized Standard Deviation 1: 16.2745\n",
      "Winsorized Standard Deviation 2: 11.2138\n",
      "Number of Pairs: 25\n",
      "Yuen's T statistic: -1.6718\n",
      "Degrees of Freedom: 14.0\n",
      "p-value: 0.0427\n",
      "Difference Between Means: -13.2\n",
      "Standard Error: 7.8955\n",
      "Winosrized Correlation: -0.4242\n",
      "Correction: 0.0427\n",
      "Explained Variance: 0.169\n",
      "Lower Bootstrap CI's: 0.052111818148149525\n",
      "Upper Bootstrap CI's: 0.7481149112630933\n",
      "Statistical Line Robust AKP effect size: Yuen's \u001b[3mt\u001b[0m(14) = -1.672, \u001b[3mp = \u001b[0m.117, \u001b[3mAKP\u001b[0m = -0.452, 95% CI(Bootstrap) [-1.002, 0.048]\n",
      "Statistical Line Robust Explanatory Effect Size: Yuen's \u001b[3mt\u001b[0m(14) = -1.672, \u001b[3mp = \u001b[0m.117, Wilcox & Tian's ξ = .411, 95% CI(Bootstrap) [.052, .748]\n"
     ]
    }
   ],
   "source": [
    "params = {\n",
    "    \"column_1\": np.array(\n",
    "        [\n",
    "            21,\n",
    "            11,\n",
    "            51,\n",
    "            49,\n",
    "            52,\n",
    "            47,\n",
    "            12,\n",
    "            53,\n",
    "            17,\n",
    "            50,\n",
    "            14,\n",
    "            33,\n",
    "            10,\n",
    "            50,\n",
    "            49,\n",
    "            52,\n",
    "            47,\n",
    "            22,\n",
    "            25,\n",
    "            3,\n",
    "            9,\n",
    "            51,\n",
    "            16,\n",
    "            18,\n",
    "            19,\n",
    "        ]\n",
    "    ),\n",
    "    \"column_2\": np.array(\n",
    "        [\n",
    "            22,\n",
    "            48,\n",
    "            14,\n",
    "            55,\n",
    "            33,\n",
    "            44,\n",
    "            50,\n",
    "            22,\n",
    "            48,\n",
    "            16,\n",
    "            46,\n",
    "            23,\n",
    "            48,\n",
    "            50,\n",
    "            49,\n",
    "            52,\n",
    "            47,\n",
    "            50,\n",
    "            45,\n",
    "            53,\n",
    "            59,\n",
    "            16,\n",
    "            46,\n",
    "            52,\n",
    "            48,\n",
    "        ]\n",
    "    ),\n",
    "    \"Trimming Level\": 0.2,\n",
    "    \"Confidence Level\": 95,\n",
    "    \"Number of Bootstrap Samples\": 10000,\n",
    "    \"Difference in the Population\": 0,\n",
    "}\n",
    "\n",
    "# Call the function\n",
    "results = RobustPairedSamples.Robust_Paired.Robust_Paired_from_data(params)\n",
    "print(\"Results of Robust Effect Size for Paired Samples\")\n",
    "for key, value in results.items():\n",
    "    print(f\"{key}: {value}\")"
   ]
  },
  {
   "cell_type": "code",
   "execution_count": null,
   "metadata": {},
   "outputs": [],
   "source": []
  },
  {
   "cell_type": "code",
   "execution_count": null,
   "metadata": {},
   "outputs": [],
   "source": []
  }
 ],
 "metadata": {
  "kernelspec": {
   "display_name": "Python 3",
   "language": "python",
   "name": "python3"
  },
  "language_info": {
   "codemirror_mode": {
    "name": "ipython",
    "version": 3
   },
   "file_extension": ".py",
   "mimetype": "text/x-python",
   "name": "python",
   "nbconvert_exporter": "python",
   "pygments_lexer": "ipython3",
   "version": "3.12.0"
  }
 },
 "nbformat": 4,
 "nbformat_minor": 2
}
