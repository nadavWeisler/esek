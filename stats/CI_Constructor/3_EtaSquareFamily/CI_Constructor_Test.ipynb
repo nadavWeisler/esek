{
 "cells": [
  {
   "cell_type": "code",
   "execution_count": 1,
   "metadata": {},
   "outputs": [
    {
     "name": "stdout",
     "output_type": "stream",
     "text": [
      "Results of Partial Eta Square from F score CI:\n",
      "Confidence Intervals Partial Eta Square (Fleishman): [0.5707 0.8134]\n",
      "Confidence Intervals Partial Eta Square (Converted F Score): [0.5955 0.8283]\n",
      "Confidence Intervals Partial Omega Square (Converted F Score): [0.5585 0.8111]\n",
      "Confidence Intervals Partial Epsilon Square (Converted F Score): [0.5666 0.8161]\n",
      "\n",
      "Results of Partial Eta Square from Effect Size CI:\n",
      "Confidence Intervals Partial Eta Square (Fleishman): [0.5707 0.8134]\n",
      "Confidence Intervals Partial Eta Square (Converted F Score): [0.5955 0.8283]\n",
      "Confidence Intervals Partial Omega Square (Converted F Score): [0.5585 0.8111]\n",
      "Confidence Intervals Partial Epsilon Square (Converted F Score): [0.5666 0.8161]\n",
      "\n"
     ]
    }
   ],
   "source": [
    "import CI_Constructor_eta\n",
    "\n",
    "\n",
    "# From F score\n",
    "\n",
    "params = {\n",
    "    \"F Value\": 41.7066,\n",
    "    \"Degrees Of Freedom Numerator\": 2,\n",
    "    \"Degrees Of Freedom Denominator\": 28,\n",
    "    \"Confidence Level\": 90\n",
    "}\n",
    "\n",
    "# Call the function\n",
    "results = CI_Constructor_eta.CI_Constructor_Partial_Eta_Square.Partial_Eta_Square_From_F(params)\n",
    "\n",
    "# Print the results\n",
    "print(\"Results of Partial Eta Square from F score CI:\")\n",
    "for key, value in results.items():\n",
    "    print(f\"{key}: {value}\")\n",
    "\n",
    "print()\n",
    "\n",
    "\n",
    "# From Effect Size\n",
    "\n",
    "params = {\n",
    "    \"Partial Eta Square\": 0.7486811,\n",
    "    \"Degrees Of Freedom Numerator\": 2,\n",
    "    \"Degrees Of Freedom Denominator\": 28,\n",
    "    \"Confidence Level\": 90\n",
    "}\n",
    "\n",
    "# Call the function\n",
    "results = CI_Constructor_eta.CI_Constructor_Partial_Eta_Square.Partial_Eta_Square_From_effect_size(params)\n",
    "\n",
    "# Print the results\n",
    "print(\"Results of Partial Eta Square from Effect Size CI:\")\n",
    "for key, value in results.items():\n",
    "    print(f\"{key}: {value}\")\n",
    "\n",
    "print()"
   ]
  },
  {
   "cell_type": "code",
   "execution_count": null,
   "metadata": {},
   "outputs": [],
   "source": []
  }
 ],
 "metadata": {
  "kernelspec": {
   "display_name": "Python 3",
   "language": "python",
   "name": "python3"
  },
  "language_info": {
   "codemirror_mode": {
    "name": "ipython",
    "version": 3
   },
   "file_extension": ".py",
   "mimetype": "text/x-python",
   "name": "python",
   "nbconvert_exporter": "python",
   "pygments_lexer": "ipython3",
   "version": "3.9.4"
  }
 },
 "nbformat": 4,
 "nbformat_minor": 2
}
